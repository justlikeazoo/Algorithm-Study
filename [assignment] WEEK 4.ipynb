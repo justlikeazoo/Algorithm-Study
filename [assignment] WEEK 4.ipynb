{
 "cells": [
  {
   "cell_type": "markdown",
   "metadata": {},
   "source": [
    "#190번\n",
    "리스트에 저장된 데이터를 아래와 같이 출력하라.\n",
    "\n",
    "apart = [ [101, 102], [201, 202], [301, 302] ]\n",
    "\n",
    "101 호\n",
    "102 호\n",
    "201 호\n",
    "202 호\n",
    "301 호\n",
    "302 호\n",
    "-----"
   ]
  },
  {
   "cell_type": "code",
   "execution_count": 8,
   "metadata": {},
   "outputs": [
    {
     "name": "stdout",
     "output_type": "stream",
     "text": [
      "-----\n",
      "101 호\n",
      "102 호\n",
      "201 호\n",
      "202 호\n",
      "301 호\n",
      "302 호\n"
     ]
    }
   ],
   "source": [
    "def solution(apart): \n",
    "    for i in apart:\n",
    "        for home in i:\n",
    "            print(home, '호')\n",
    "print('-'*5)\n",
    "\n",
    "apart = [ [101, 102], [201, 202], [301, 302] ]\n",
    "\n",
    "print_apart(apart)"
   ]
  },
  {
   "cell_type": "markdown",
   "metadata": {},
   "source": [
    "#210번\n",
    "아래 코드의 실행 결과를 예측하라.\n",
    "\n",
    "def message1():\n",
    "    print(\"A\")\n",
    "\n",
    "def message2():\n",
    "    print(\"B\")\n",
    "\n",
    "def message3():\n",
    "    for i in range (3) :\n",
    "        message2()\n",
    "        print(\"C\")\n",
    "    message1()\n",
    "\n",
    "message3()"
   ]
  },
  {
   "cell_type": "code",
   "execution_count": 6,
   "metadata": {},
   "outputs": [
    {
     "name": "stdout",
     "output_type": "stream",
     "text": [
      "B\n",
      "C\n",
      "B\n",
      "C\n",
      "B\n",
      "C\n",
      "A\n"
     ]
    }
   ],
   "source": [
    "def message1():\n",
    "    print(\"A\")\n",
    "\n",
    "def message2():\n",
    "    print(\"B\")\n",
    "\n",
    "def message3():\n",
    "    for i in range (3) :\n",
    "        message2()\n",
    "        print(\"C\")\n",
    "    message1()\n",
    "\n",
    "message3()"
   ]
  },
  {
   "cell_type": "markdown",
   "metadata": {},
   "source": [
    "3문제 (클래스)\n",
    "1. 본인의 관심 분야의 클래스를 정의해보기\n",
    "- 생성자 및 다양한 메서드 추가\n",
    "\n",
    "2. 여러 객체를 생성하기\n",
    "\n",
    "3. 1번에서 정의한 클래스를 상속받는 새로운 클래스를 정의해보기"
   ]
  },
  {
   "cell_type": "code",
   "execution_count": 10,
   "metadata": {},
   "outputs": [],
   "source": [
    "#1.본인의 관심 분야의 클래스를 정의해보기\n",
    "## 생성자 및 다양한 메서드 추가integer_ratio\n",
    "class AespaMember:\n",
    "    def __init__(self, name, position, birthdate):\n",
    "        self.name = name\n",
    "        self.position = position\n",
    "        self.birthdate = birthdate\n",
    "\n",
    "    def introduce(self):\n",
    "        return f\"안녕하세요, 제 이름은 {self.name}이고, 저는 에스파의 {self.position}입니다.\"\n",
    "\n",
    "    def get_age(self, current_year):\n",
    "        birth_year = int(self.birthdate.split('-')[0])\n",
    "        age = current_year - birth_year\n",
    "        return f\"{self.name}의 나이는 {age}세입니다.\"\n"
   ]
  },
  {
   "cell_type": "code",
   "execution_count": 11,
   "metadata": {},
   "outputs": [
    {
     "name": "stdout",
     "output_type": "stream",
     "text": [
      "안녕하세요, 제 이름은 닝닝이고, 저는 에스파의 보컬입니다.\n",
      "닝닝의 나이는 21세입니다.\n",
      "안녕하세요, 제 이름은 지젤이고, 저는 에스파의 랩입니다.\n",
      "지젤의 나이는 23세입니다.\n",
      "안녕하세요, 제 이름은 카리나이고, 저는 에스파의 리더, 랩, 댄스입니다.\n",
      "카리나의 나이는 23세입니다.\n",
      "안녕하세요, 제 이름은 윈터이고, 저는 에스파의 보컬, 댄스입니다.\n",
      "윈터의 나이는 22세입니다.\n"
     ]
    }
   ],
   "source": [
    "#2. 여러 객체를 생성하기\n",
    "##  에스파 멤버 객체 생성\n",
    "## 에스파 멤버들의 정보\n",
    "ningning = AespaMember(\"닝닝\", \"보컬\", \"2002-10-23\")\n",
    "giselle = AespaMember(\"지젤\", \"랩\", \"2000-10-30\")\n",
    "karina = AespaMember(\"카리나\", \"리더, 랩, 댄스\", \"2000-04-11\")\n",
    "winter = AespaMember(\"윈터\", \"보컬, 댄스\", \"2001-01-01\")\n",
    "\n",
    "# 멤버 정보 출력\n",
    "print(ningning.introduce())\n",
    "print(ningning.get_age(2023))\n",
    "\n",
    "print(giselle.introduce())\n",
    "print(giselle.get_age(2023))\n",
    "\n",
    "print(karina.introduce())\n",
    "print(karina.get_age(2023))\n",
    "\n",
    "print(winter.introduce())\n",
    "print(winter.get_age(2023))"
   ]
  },
  {
   "cell_type": "code",
   "execution_count": null,
   "metadata": {},
   "outputs": [],
   "source": [
    "# 3. 1번에서 정의한 클래스를 상속받는 새로운 클래스를 정의해보기\n",
    "## 에스파 멤버 클래스를 상속받는 새로운 클래스 정의. \n",
    "## 에스파 멤버의 정보에 추가 속성 포함.\n",
    "class ExtendedAespaMember(AespaMember):\n",
    "    def __init__(self, name, position, birthdate, nickname):\n",
    "        super().__init__(name, position, birthdate)\n",
    "        self.nickname = nickname\n",
    "\n",
    "    def introduce(self):\n",
    "        return f\"안녕하세요, 제 이름은 {self.name}이고, 저는 에스파의 {self.position}입니다. 친구들은 저를 {self.nickname}이라고 부릅니다.\"\n",
    "\n",
    "# 확장된 에스파 멤버 객체 생성\n",
    "karina_extended = ExtendedAespaMember(\"카리나\", \"리더, 랩, 댄스\", \"2000-04-11\", \"까리\")\n",
    "\n",
    "# 확장된 멤버 정보 출력\n",
    "print(karina_extended.introduce())\n",
    "print(karina_extended.get_age(2023))"
   ]
  }
 ],
 "metadata": {
  "kernelspec": {
   "display_name": "base",
   "language": "python",
   "name": "python3"
  },
  "language_info": {
   "codemirror_mode": {
    "name": "ipython",
    "version": 3
   },
   "file_extension": ".py",
   "mimetype": "text/x-python",
   "name": "python",
   "nbconvert_exporter": "python",
   "pygments_lexer": "ipython3",
   "version": "3.9.13"
  },
  "orig_nbformat": 4
 },
 "nbformat": 4,
 "nbformat_minor": 2
}
