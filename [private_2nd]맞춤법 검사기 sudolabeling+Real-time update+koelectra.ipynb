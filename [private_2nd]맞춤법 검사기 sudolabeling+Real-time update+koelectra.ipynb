{
 "cells": [
  {
   "cell_type": "code",
   "execution_count": 18,
   "metadata": {},
   "outputs": [
    {
     "data": {
      "text/html": [
       "<div>\n",
       "<style scoped>\n",
       "    .dataframe tbody tr th:only-of-type {\n",
       "        vertical-align: middle;\n",
       "    }\n",
       "\n",
       "    .dataframe tbody tr th {\n",
       "        vertical-align: top;\n",
       "    }\n",
       "\n",
       "    .dataframe thead th {\n",
       "        text-align: right;\n",
       "    }\n",
       "</style>\n",
       "<table border=\"1\" class=\"dataframe\">\n",
       "  <thead>\n",
       "    <tr style=\"text-align: right;\">\n",
       "      <th></th>\n",
       "      <th>text</th>\n",
       "      <th>label</th>\n",
       "    </tr>\n",
       "  </thead>\n",
       "  <tbody>\n",
       "    <tr>\n",
       "      <th>0</th>\n",
       "      <td>직원들 마음에 들지 않는다는 것은 알겠지만, 가지 말아야 할까? 인터넷에서 싸게 살...</td>\n",
       "      <td>0</td>\n",
       "    </tr>\n",
       "    <tr>\n",
       "      <th>1</th>\n",
       "      <td>분위기 최고! 2층 창문이 넓어서 공기가 통하는 느낌이에요. 조명도 멋지고 음료와 ...</td>\n",
       "      <td>0</td>\n",
       "    </tr>\n",
       "    <tr>\n",
       "      <th>2</th>\n",
       "      <td>일단, 장사가 잘 되길 바라는 마음에서 별 다섯 개 드립니다. 간도 딱 맞았고, 저...</td>\n",
       "      <td>0</td>\n",
       "    </tr>\n",
       "    <tr>\n",
       "      <th>3</th>\n",
       "      <td>1편의 독특함 때문에 살짝 뒤로 밀린 느낌이 있지만, 여전히 재미있어요. 게임 시스...</td>\n",
       "      <td>0</td>\n",
       "    </tr>\n",
       "    <tr>\n",
       "      <th>4</th>\n",
       "      <td>빵점 주고 싶은걸 간신히 참았다...이런건 사상 유래가 없는,조지 루카스 영감의 스...</td>\n",
       "      <td>1</td>\n",
       "    </tr>\n",
       "    <tr>\n",
       "      <th>...</th>\n",
       "      <td>...</td>\n",
       "      <td>...</td>\n",
       "    </tr>\n",
       "    <tr>\n",
       "      <th>195</th>\n",
       "      <td>ㄹㅇ남자직원 왜케 말투 공격적인거에요? 밥먹고 기분좋게 카페와서 커피먹을라고 했는데...</td>\n",
       "      <td>1</td>\n",
       "    </tr>\n",
       "    <tr>\n",
       "      <th>196</th>\n",
       "      <td>이 가격에 이런 품질의 피자라니, 너무 기분이 좋아요! 도우는 매우 쫄깃하고 고구마...</td>\n",
       "      <td>0</td>\n",
       "    </tr>\n",
       "    <tr>\n",
       "      <th>197</th>\n",
       "      <td>겉은 바삭바삭한데, 치킨 메뉴가 많고 주인부부가 인상적이어서 들어갔는데 바로 나왔어...</td>\n",
       "      <td>0</td>\n",
       "    </tr>\n",
       "    <tr>\n",
       "      <th>198</th>\n",
       "      <td>단체로 와서 잘먹긴했지만 회만 먹은것도 아니고 술도 시키면서 먹고있는데 \"적당히\"드...</td>\n",
       "      <td>1</td>\n",
       "    </tr>\n",
       "    <tr>\n",
       "      <th>199</th>\n",
       "      <td>★★★☆(3.5) 모둠 초밥(12,000원)은 정말 가성비가 좋아요! 처음에 참소라...</td>\n",
       "      <td>0</td>\n",
       "    </tr>\n",
       "  </tbody>\n",
       "</table>\n",
       "<p>200 rows × 2 columns</p>\n",
       "</div>"
      ],
      "text/plain": [
       "                                                  text  label\n",
       "0    직원들 마음에 들지 않는다는 것은 알겠지만, 가지 말아야 할까? 인터넷에서 싸게 살...      0\n",
       "1    분위기 최고! 2층 창문이 넓어서 공기가 통하는 느낌이에요. 조명도 멋지고 음료와 ...      0\n",
       "2    일단, 장사가 잘 되길 바라는 마음에서 별 다섯 개 드립니다. 간도 딱 맞았고, 저...      0\n",
       "3    1편의 독특함 때문에 살짝 뒤로 밀린 느낌이 있지만, 여전히 재미있어요. 게임 시스...      0\n",
       "4    빵점 주고 싶은걸 간신히 참았다...이런건 사상 유래가 없는,조지 루카스 영감의 스...      1\n",
       "..                                                 ...    ...\n",
       "195  ㄹㅇ남자직원 왜케 말투 공격적인거에요? 밥먹고 기분좋게 카페와서 커피먹을라고 했는데...      1\n",
       "196  이 가격에 이런 품질의 피자라니, 너무 기분이 좋아요! 도우는 매우 쫄깃하고 고구마...      0\n",
       "197  겉은 바삭바삭한데, 치킨 메뉴가 많고 주인부부가 인상적이어서 들어갔는데 바로 나왔어...      0\n",
       "198  단체로 와서 잘먹긴했지만 회만 먹은것도 아니고 술도 시키면서 먹고있는데 \"적당히\"드...      1\n",
       "199  ★★★☆(3.5) 모둠 초밥(12,000원)은 정말 가성비가 좋아요! 처음에 참소라...      0\n",
       "\n",
       "[200 rows x 2 columns]"
      ]
     },
     "execution_count": 18,
     "metadata": {},
     "output_type": "execute_result"
    }
   ],
   "source": [
    "import pandas as pd\n",
    "\n",
    "# 파일을 불러옵니다.\n",
    "data = pd.read_csv(\"./train.csv\")\n",
    "\n",
    "# 마지막 컬럼의 이름을 가져옵니다.\n",
    "last_column = data.columns[-1]\n",
    "\n",
    "data"
   ]
  },
  {
   "cell_type": "markdown",
   "metadata": {},
   "source": [
    "# 📇 맞춤법 검사기를 통한 해결방법\n",
    "\n",
    "1. 맞춤법 검사기를 통해 인간이 더 자주 오류를 발생시키는 것을 확인\n",
    "2. 맞춤법 검사기를 통한 test psudolabeling(가상 레이블링)\n",
    "3. train+test 결합데이터를 통한 Real-time update workflow 구축\n",
    "4. koelectra를 사용한 맞춤법 외 오류 예측 안정화"
   ]
  },
  {
   "cell_type": "markdown",
   "metadata": {},
   "source": [
    "# 1) 왜 '맞춤법 검사'인가?\n",
    "-  데이터의 특성이나 맥락을 분석하고, 이를 통해 각 텍스트에 대한 가상의 레이블(예: 긍정적 또는 부정적, 특정 주제 등)을 생성이 가능함\n",
    "\n",
    "- 생성된 가상 레이블을 사용하여 모델을 추가로 훈련시키거나, 모델의 성능을 개선하는 데 활용 가능함\n",
    "\n",
    "[예시]\n",
    " 온라인 리뷰 데이터에 대한 감성 분석 모델을 개발한다고 가정해 봅시다. 많은 양의 리뷰 데이터가 있지만, 이 중 일부만 레이블(긍정적 또는 부정적)이 지정된 상황...\n",
    "\n",
    " -> 이때 맞춤법 검사기를 사용하여 레이블이 없는 리뷰들의 맞춤법을 점검하고, 이를 통해 리뷰의 감정을 추론할 수 있는 단서를 얻을 수 있음\n",
    "\n",
    " => 맞춤법 오류가 많은 리뷰가 부정적인 감정과 관련이 있다고 가정 하면... 이러한 방식으로 리뷰에 가상의 레이블을 부여하고, 이 정보를 모델 학습에 추가적으로 활용할 수 있음."
   ]
  },
  {
   "cell_type": "markdown",
   "metadata": {},
   "source": [
    "# 2) train과 test 결합 데이터 사용\n",
    ": 보통은 test 데이터를 건드리기만 해도 data leakage라는 느낌이 강함\n",
    "\n",
    "- 왜냐하면 test 데이터의 정보가 무분별하게 사용된다면 실제 상황의 성을을 과대 평가하게 만들 것이라 염려함\n",
    "- 따라서 일반적인 실험에서는 모델의 일반화 능력을 정확히 평가하기 위해 tset 데이터를 엄격하게 분리하고 train에 대해 test data에 대한 어떤 정보도 사용하지 않음\n",
    "\n",
    "단, 실무에서는 '새로운 데이터가 지속적으로 생성' 되기 때문에 모델을 주기적으로 업데이트 해야함!\n",
    "\n",
    "그래서 ~ 새로운 데이터를 기반으로 모델을 지속적으로 훈련시켜 최근 데이터 패턴을 학습하고, 서비스의 정화도를 유지 or 개선할 목적으로 💡 \"Real-time update workflow\" 구축\n",
    "\n",
    "✅ 데이터에 라벨을 부여하고 모델 업데이트 하는것은 ..  data leakage가 아닌 '유지보수'에 더 가깝다"
   ]
  },
  {
   "cell_type": "code",
   "execution_count": 19,
   "metadata": {},
   "outputs": [
    {
     "data": {
      "text/html": [
       "<div>\n",
       "<style scoped>\n",
       "    .dataframe tbody tr th:only-of-type {\n",
       "        vertical-align: middle;\n",
       "    }\n",
       "\n",
       "    .dataframe tbody tr th {\n",
       "        vertical-align: top;\n",
       "    }\n",
       "\n",
       "    .dataframe thead th {\n",
       "        text-align: right;\n",
       "    }\n",
       "</style>\n",
       "<table border=\"1\" class=\"dataframe\">\n",
       "  <thead>\n",
       "    <tr style=\"text-align: right;\">\n",
       "      <th></th>\n",
       "      <th>text</th>\n",
       "      <th>label</th>\n",
       "    </tr>\n",
       "  </thead>\n",
       "  <tbody>\n",
       "    <tr>\n",
       "      <th>0</th>\n",
       "      <td>직원들 마음에 들지 않는다는 것은 알겠지만, 가지 말아야 할까? 인터넷에서 싸게 살...</td>\n",
       "      <td>0</td>\n",
       "    </tr>\n",
       "    <tr>\n",
       "      <th>1</th>\n",
       "      <td>분위기 최고! 2층 창문이 넓어서 공기가 통하는 느낌이에요. 조명도 멋지고 음료와 ...</td>\n",
       "      <td>0</td>\n",
       "    </tr>\n",
       "    <tr>\n",
       "      <th>2</th>\n",
       "      <td>일단, 장사가 잘 되길 바라는 마음에서 별 다섯 개 드립니다. 간도 딱 맞았고, 저...</td>\n",
       "      <td>0</td>\n",
       "    </tr>\n",
       "    <tr>\n",
       "      <th>3</th>\n",
       "      <td>1편의 독특함 때문에 살짝 뒤로 밀린 느낌이 있지만, 여전히 재미있어요. 게임 시스...</td>\n",
       "      <td>0</td>\n",
       "    </tr>\n",
       "    <tr>\n",
       "      <th>4</th>\n",
       "      <td>빵점 주고 싶은걸 간신히 참았다...이런건 사상 유래가 없는,조지 루카스 영감의 스...</td>\n",
       "      <td>1</td>\n",
       "    </tr>\n",
       "  </tbody>\n",
       "</table>\n",
       "</div>"
      ],
      "text/plain": [
       "                                                text  label\n",
       "0  직원들 마음에 들지 않는다는 것은 알겠지만, 가지 말아야 할까? 인터넷에서 싸게 살...      0\n",
       "1  분위기 최고! 2층 창문이 넓어서 공기가 통하는 느낌이에요. 조명도 멋지고 음료와 ...      0\n",
       "2  일단, 장사가 잘 되길 바라는 마음에서 별 다섯 개 드립니다. 간도 딱 맞았고, 저...      0\n",
       "3  1편의 독특함 때문에 살짝 뒤로 밀린 느낌이 있지만, 여전히 재미있어요. 게임 시스...      0\n",
       "4  빵점 주고 싶은걸 간신히 참았다...이런건 사상 유래가 없는,조지 루카스 영감의 스...      1"
      ]
     },
     "execution_count": 19,
     "metadata": {},
     "output_type": "execute_result"
    }
   ],
   "source": [
    "# 데이터 프레임 재구성 \n",
    "new_file_path = r'C:\\Users\\jyjj0\\OneDrive\\바탕 화면\\Algorithm Study\\AI vs Human 텍스트 판별 해커톤 data\\train.csv'\n",
    "new_train_df = pd.read_csv(new_file_path)\n",
    "\n",
    "# 데이터프레임의 처음 몇 줄을 확인\n",
    "new_train_df.head()\n"
   ]
  },
  {
   "cell_type": "code",
   "execution_count": 20,
   "metadata": {},
   "outputs": [
    {
     "data": {
      "text/html": [
       "<div>\n",
       "<style scoped>\n",
       "    .dataframe tbody tr th:only-of-type {\n",
       "        vertical-align: middle;\n",
       "    }\n",
       "\n",
       "    .dataframe tbody tr th {\n",
       "        vertical-align: top;\n",
       "    }\n",
       "\n",
       "    .dataframe thead th {\n",
       "        text-align: right;\n",
       "    }\n",
       "</style>\n",
       "<table border=\"1\" class=\"dataframe\">\n",
       "  <thead>\n",
       "    <tr style=\"text-align: right;\">\n",
       "      <th></th>\n",
       "      <th>text</th>\n",
       "      <th>new_label</th>\n",
       "    </tr>\n",
       "  </thead>\n",
       "  <tbody>\n",
       "    <tr>\n",
       "      <th>0</th>\n",
       "      <td>직원들 마음에 들지 않는다는 것은 알겠지만, 가지 말아야 할까? 인터넷에서 싸게 살...</td>\n",
       "      <td>0</td>\n",
       "    </tr>\n",
       "    <tr>\n",
       "      <th>1</th>\n",
       "      <td>분위기 최고! 2층 창문이 넓어서 공기가 통하는 느낌이에요. 조명도 멋지고 음료와 ...</td>\n",
       "      <td>0</td>\n",
       "    </tr>\n",
       "    <tr>\n",
       "      <th>2</th>\n",
       "      <td>일단, 장사가 잘 되길 바라는 마음에서 별 다섯 개 드립니다. 간도 딱 맞았고, 저...</td>\n",
       "      <td>1</td>\n",
       "    </tr>\n",
       "    <tr>\n",
       "      <th>3</th>\n",
       "      <td>1편의 독특함 때문에 살짝 뒤로 밀린 느낌이 있지만, 여전히 재미있어요. 게임 시스...</td>\n",
       "      <td>0</td>\n",
       "    </tr>\n",
       "    <tr>\n",
       "      <th>4</th>\n",
       "      <td>빵점 주고 싶은걸 간신히 참았다...이런건 사상 유래가 없는,조지 루카스 영감의 스...</td>\n",
       "      <td>0</td>\n",
       "    </tr>\n",
       "  </tbody>\n",
       "</table>\n",
       "</div>"
      ],
      "text/plain": [
       "                                                text  new_label\n",
       "0  직원들 마음에 들지 않는다는 것은 알겠지만, 가지 말아야 할까? 인터넷에서 싸게 살...          0\n",
       "1  분위기 최고! 2층 창문이 넓어서 공기가 통하는 느낌이에요. 조명도 멋지고 음료와 ...          0\n",
       "2  일단, 장사가 잘 되길 바라는 마음에서 별 다섯 개 드립니다. 간도 딱 맞았고, 저...          1\n",
       "3  1편의 독특함 때문에 살짝 뒤로 밀린 느낌이 있지만, 여전히 재미있어요. 게임 시스...          0\n",
       "4  빵점 주고 싶은걸 간신히 참았다...이런건 사상 유래가 없는,조지 루카스 영감의 스...          0"
      ]
     },
     "execution_count": 20,
     "metadata": {},
     "output_type": "execute_result"
    }
   ],
   "source": [
    "# 'text' 컬럼의 텍스트 길이를 기준으로 새로운 라벨을 생성\n",
    "# 텍스트 길이 계산\n",
    "new_train_df['text_length'] = new_train_df['text'].apply(len)\n",
    "\n",
    "# 텍스트 길이의 중앙값 계산\n",
    "median_length = new_train_df['text_length'].median()\n",
    "\n",
    "# 중앙값을 기준으로 새로운 라벨 생성\n",
    "# 텍스트 길이가 중앙값보다 크면 1, 그렇지 않으면 0\n",
    "new_train_df['new_label'] = (new_train_df['text_length'] > median_length).astype(int)\n",
    "\n",
    "# 필요한 컬럼만 선택하여 최종 데이터프레임을 생성\n",
    "final_df = new_train_df[['text', 'new_label']]\n",
    "\n",
    "# 최종 데이터프레임의 처음 몇 줄을 확인\n",
    "final_df.head()"
   ]
  },
  {
   "cell_type": "code",
   "execution_count": 21,
   "metadata": {},
   "outputs": [
    {
     "data": {
      "text/plain": [
       "'C:\\\\Users\\\\jyjj0\\\\OneDrive\\\\바탕 화면\\\\Algorithm Study\\\\AI vs Human 텍스트 판별 해커톤 data.\\\\final_train.csv'"
      ]
     },
     "execution_count": 21,
     "metadata": {},
     "output_type": "execute_result"
    }
   ],
   "source": [
    "# 최종 데이터프레임 저장 이름은 final_train.csv\n",
    "save_file_path =r'C:\\Users\\jyjj0\\OneDrive\\바탕 화면\\Algorithm Study\\AI vs Human 텍스트 판별 해커톤 data.\\final_train.csv'\n",
    "\n",
    "# CSV 파일로 저장. 인덱스는 저장 안함\n",
    "final_df.to_csv(save_file_path, index=False)\n",
    "\n",
    "# 저장된 파일의 경로를 반환\n",
    "save_file_path\n"
   ]
  },
  {
   "cell_type": "markdown",
   "metadata": {},
   "source": [
    "🔸 결론\n",
    "- text 컬럼에 있는 텍스트의 길이를 계산하여 새로운 정보를 알 수 있음\n",
    "\n",
    "- 새로운 라벨('new_label')은 텍스트의 길이에 기반한 간단한 이진 분류로, 데이터셋을 다양한 방식으로 분석하거나 이해하는 데 도움을 줄 수 있음\n",
    "\n",
    "[예시]\n",
    "- 텍스트 길이가 중앙값보다 긴 경우와 그렇지 않은 경우를 비교 분석하여, 텍스트 길이가 특정 지표나 결과에 미치는 영향을 조사\n"
   ]
  },
  {
   "cell_type": "markdown",
   "metadata": {},
   "source": [
    "📌 여기서 부터는 Test data"
   ]
  },
  {
   "cell_type": "code",
   "execution_count": 22,
   "metadata": {},
   "outputs": [
    {
     "data": {
      "text/html": [
       "<div>\n",
       "<style scoped>\n",
       "    .dataframe tbody tr th:only-of-type {\n",
       "        vertical-align: middle;\n",
       "    }\n",
       "\n",
       "    .dataframe tbody tr th {\n",
       "        vertical-align: top;\n",
       "    }\n",
       "\n",
       "    .dataframe thead th {\n",
       "        text-align: right;\n",
       "    }\n",
       "</style>\n",
       "<table border=\"1\" class=\"dataframe\">\n",
       "  <thead>\n",
       "    <tr style=\"text-align: right;\">\n",
       "      <th></th>\n",
       "      <th>text</th>\n",
       "    </tr>\n",
       "  </thead>\n",
       "  <tbody>\n",
       "    <tr>\n",
       "      <th>0</th>\n",
       "      <td>배송은 정말 빨랐어요! 집에서 속옷이 불편한데 입기 싫고, 안 입으면 민망해서 구매...</td>\n",
       "    </tr>\n",
       "    <tr>\n",
       "      <th>0</th>\n",
       "      <td>배송은 정말 빠르고요~ 집에서 속옷은 불편해서 안 입으려고 했는데, 약간 부끄럽기도...</td>\n",
       "    </tr>\n",
       "    <tr>\n",
       "      <th>0</th>\n",
       "      <td>배송은 빠르구여~집에서 속옷 불편한데 입긴싫고~안입자니 민망해서 구매했는데~오 사이...</td>\n",
       "    </tr>\n",
       "    <tr>\n",
       "      <th>0</th>\n",
       "      <td>배송 빨라요~ 속옷 불편한데 입기 싫고~ 안 입으면 민망해서 삿는데~ 사이즈 크네요...</td>\n",
       "    </tr>\n",
       "    <tr>\n",
       "      <th>1</th>\n",
       "      <td>하.. 원래도 비쌋는데 가격도 더ㅠ올라가고  품질은 더 떨어졌어요..   김밥에 참...</td>\n",
       "    </tr>\n",
       "    <tr>\n",
       "      <th>...</th>\n",
       "      <td>...</td>\n",
       "    </tr>\n",
       "    <tr>\n",
       "      <th>1098</th>\n",
       "      <td>안좋은 리뷰를 왠만해서는 안쓰는데 삼성역 아그라를 정말 좋아해서 자주가는 편인데 아...</td>\n",
       "    </tr>\n",
       "    <tr>\n",
       "      <th>1099</th>\n",
       "      <td>이 식당이 조금 아쉬웠으면 좋겠습니다. 맛은 평범한 편이지만 직원들의 태도가 너무 ...</td>\n",
       "    </tr>\n",
       "    <tr>\n",
       "      <th>1099</th>\n",
       "      <td>이런 식당은 정말 아쉽습니다. 보통 맛이지만 직원들의 태도가 너무 실망스럽습니다. ...</td>\n",
       "    </tr>\n",
       "    <tr>\n",
       "      <th>1099</th>\n",
       "      <td>이런 식당은 정말 망했으면 좋겠어요. 맛은 그냥 그런 편인데 직원들이 정말 불친절해...</td>\n",
       "    </tr>\n",
       "    <tr>\n",
       "      <th>1099</th>\n",
       "      <td>이런 식당은 정말 망했으면 좋겠습니다. 맛은 보통이나 직원들이 진짜 불핀절해서 기분...</td>\n",
       "    </tr>\n",
       "  </tbody>\n",
       "</table>\n",
       "<p>4400 rows × 1 columns</p>\n",
       "</div>"
      ],
      "text/plain": [
       "                                                   text\n",
       "0     배송은 정말 빨랐어요! 집에서 속옷이 불편한데 입기 싫고, 안 입으면 민망해서 구매...\n",
       "0     배송은 정말 빠르고요~ 집에서 속옷은 불편해서 안 입으려고 했는데, 약간 부끄럽기도...\n",
       "0     배송은 빠르구여~집에서 속옷 불편한데 입긴싫고~안입자니 민망해서 구매했는데~오 사이...\n",
       "0     배송 빨라요~ 속옷 불편한데 입기 싫고~ 안 입으면 민망해서 삿는데~ 사이즈 크네요...\n",
       "1     하.. 원래도 비쌋는데 가격도 더ㅠ올라가고  품질은 더 떨어졌어요..   김밥에 참...\n",
       "...                                                 ...\n",
       "1098  안좋은 리뷰를 왠만해서는 안쓰는데 삼성역 아그라를 정말 좋아해서 자주가는 편인데 아...\n",
       "1099  이 식당이 조금 아쉬웠으면 좋겠습니다. 맛은 평범한 편이지만 직원들의 태도가 너무 ...\n",
       "1099  이런 식당은 정말 아쉽습니다. 보통 맛이지만 직원들의 태도가 너무 실망스럽습니다. ...\n",
       "1099  이런 식당은 정말 망했으면 좋겠어요. 맛은 그냥 그런 편인데 직원들이 정말 불친절해...\n",
       "1099  이런 식당은 정말 망했으면 좋겠습니다. 맛은 보통이나 직원들이 진짜 불핀절해서 기분...\n",
       "\n",
       "[4400 rows x 1 columns]"
      ]
     },
     "execution_count": 22,
     "metadata": {},
     "output_type": "execute_result"
    }
   ],
   "source": [
    "# test 데이터를 불러옵니다.\n",
    "test_data = pd.read_csv(\"./test.csv\")\n",
    "\n",
    "# 지정된 순서대로 데이터를 재정렬합니다.\n",
    "test_df = test_data[['sentence1', 'sentence2', 'sentence3', 'sentence4']].stack().reset_index(level=-1, drop=True).to_frame(name=\"text\")\n",
    "\n",
    "test_df"
   ]
  },
  {
   "cell_type": "code",
   "execution_count": 23,
   "metadata": {},
   "outputs": [],
   "source": [
    "test_df.to_csv('./test_preprocessed.csv', index=False)"
   ]
  },
  {
   "cell_type": "markdown",
   "metadata": {},
   "source": [
    "📍 package setting"
   ]
  },
  {
   "cell_type": "code",
   "execution_count": 26,
   "metadata": {},
   "outputs": [
    {
     "name": "stdout",
     "output_type": "stream",
     "text": [
      "Collecting git+https://github.com/ssut/py-hanspell.git\n",
      "  Cloning https://github.com/ssut/py-hanspell.git to c:\\users\\jyjj0\\appdata\\local\\temp\\pip-req-build-5l739nlr\n",
      "  Resolved https://github.com/ssut/py-hanspell.git to commit fdc6ca50c19f1c85971437a072d89d4e5ce024b8\n",
      "  Preparing metadata (setup.py): started\n",
      "  Preparing metadata (setup.py): finished with status 'done'\n",
      "Requirement already satisfied: requests in c:\\users\\jyjj0\\appdata\\local\\programs\\python\\python311\\lib\\site-packages (from py-hanspell==1.1) (2.31.0)\n",
      "Requirement already satisfied: charset-normalizer<4,>=2 in c:\\users\\jyjj0\\appdata\\local\\programs\\python\\python311\\lib\\site-packages (from requests->py-hanspell==1.1) (3.2.0)\n",
      "Requirement already satisfied: idna<4,>=2.5 in c:\\users\\jyjj0\\appdata\\local\\programs\\python\\python311\\lib\\site-packages (from requests->py-hanspell==1.1) (3.4)\n",
      "Requirement already satisfied: urllib3<3,>=1.21.1 in c:\\users\\jyjj0\\appdata\\local\\programs\\python\\python311\\lib\\site-packages (from requests->py-hanspell==1.1) (2.0.4)\n",
      "Requirement already satisfied: certifi>=2017.4.17 in c:\\users\\jyjj0\\appdata\\local\\programs\\python\\python311\\lib\\site-packages (from requests->py-hanspell==1.1) (2023.7.22)\n"
     ]
    },
    {
     "name": "stderr",
     "output_type": "stream",
     "text": [
      "DEPRECATION: Loading egg at c:\\users\\jyjj0\\appdata\\local\\programs\\python\\python311\\lib\\site-packages\\py_hanspell-1.1-py3.11.egg is deprecated. pip 24.3 will enforce this behaviour change. A possible replacement is to use pip for package installation.. Discussion can be found at https://github.com/pypa/pip/issues/12330\n",
      "  Running command git clone --filter=blob:none --quiet https://github.com/ssut/py-hanspell.git 'C:\\Users\\jyjj0\\AppData\\Local\\Temp\\pip-req-build-5l739nlr'\n"
     ]
    }
   ],
   "source": [
    "!pip install git+https://github.com/ssut/py-hanspell.git"
   ]
  },
  {
   "cell_type": "code",
   "execution_count": 27,
   "metadata": {},
   "outputs": [],
   "source": [
    "import pandas as pd\n",
    "from hanspell import spell_checker\n",
    "from tqdm import tqdm"
   ]
  },
  {
   "cell_type": "markdown",
   "metadata": {},
   "source": [
    "# hanspell이란?\n",
    "\n",
    "- py-hanspell은 네이버의 맞춤법 검사 API를 활용하는 Python 라이브러리\n",
    "- 비슷한 한국어 문법 교정 라이브러리로는.. KoSpell,Open Korean Text,KoreanSpellChecker등이 있음"
   ]
  },
  {
   "cell_type": "markdown",
   "metadata": {},
   "source": [
    "📍 train과 test 재정의 및 Real-time update workflow 구축을 위한 전처리\n",
    "\n",
    "-> 맞춤법이 많이 틀린 문장(사람이 씀)찾기"
   ]
  },
  {
   "cell_type": "code",
   "execution_count": 28,
   "metadata": {},
   "outputs": [],
   "source": [
    "train = pd.read_csv(r\"C:\\Users\\jyjj0\\OneDrive\\바탕 화면\\Algorithm Study\\AI vs Human 텍스트 판별 해커톤 data\\final_train.csv\")\n",
    "test = pd.read_csv(r\"C:\\Users\\jyjj0\\OneDrive\\바탕 화면\\Algorithm Study\\AI vs Human 텍스트 판별 해커톤 data\\test_preprocessed.csv\")"
   ]
  },
  {
   "cell_type": "code",
   "execution_count": 29,
   "metadata": {},
   "outputs": [],
   "source": [
    "train[\"text\"] = train[\"text\"].str.replace(\"&\", \",\")\n",
    "test[\"text\"] = test[\"text\"].str.replace(\"&\", \",\")"
   ]
  },
  {
   "cell_type": "code",
   "execution_count": 30,
   "metadata": {},
   "outputs": [
    {
     "name": "stderr",
     "output_type": "stream",
     "text": [
      "100%|██████████| 200/200 [00:04<00:00, 49.46it/s]\n"
     ]
    },
    {
     "data": {
      "text/html": [
       "<div>\n",
       "<style scoped>\n",
       "    .dataframe tbody tr th:only-of-type {\n",
       "        vertical-align: middle;\n",
       "    }\n",
       "\n",
       "    .dataframe tbody tr th {\n",
       "        vertical-align: top;\n",
       "    }\n",
       "\n",
       "    .dataframe thead th {\n",
       "        text-align: right;\n",
       "    }\n",
       "</style>\n",
       "<table border=\"1\" class=\"dataframe\">\n",
       "  <thead>\n",
       "    <tr style=\"text-align: right;\">\n",
       "      <th></th>\n",
       "      <th>text</th>\n",
       "      <th>new_label</th>\n",
       "      <th>result</th>\n",
       "    </tr>\n",
       "  </thead>\n",
       "  <tbody>\n",
       "    <tr>\n",
       "      <th>0</th>\n",
       "      <td>직원들 마음에 들지 않는다는 것은 알겠지만, 가지 말아야 할까? 인터넷에서 싸게 살...</td>\n",
       "      <td>0</td>\n",
       "      <td>unknown</td>\n",
       "    </tr>\n",
       "    <tr>\n",
       "      <th>1</th>\n",
       "      <td>분위기 최고! 2층 창문이 넓어서 공기가 통하는 느낌이에요. 조명도 멋지고 음료와 ...</td>\n",
       "      <td>0</td>\n",
       "      <td>unknown</td>\n",
       "    </tr>\n",
       "    <tr>\n",
       "      <th>2</th>\n",
       "      <td>일단, 장사가 잘 되길 바라는 마음에서 별 다섯 개 드립니다. 간도 딱 맞았고, 저...</td>\n",
       "      <td>1</td>\n",
       "      <td>unknown</td>\n",
       "    </tr>\n",
       "    <tr>\n",
       "      <th>3</th>\n",
       "      <td>1편의 독특함 때문에 살짝 뒤로 밀린 느낌이 있지만, 여전히 재미있어요. 게임 시스...</td>\n",
       "      <td>0</td>\n",
       "      <td>unknown</td>\n",
       "    </tr>\n",
       "    <tr>\n",
       "      <th>4</th>\n",
       "      <td>빵점 주고 싶은걸 간신히 참았다...이런건 사상 유래가 없는,조지 루카스 영감의 스...</td>\n",
       "      <td>0</td>\n",
       "      <td>unknown</td>\n",
       "    </tr>\n",
       "    <tr>\n",
       "      <th>...</th>\n",
       "      <td>...</td>\n",
       "      <td>...</td>\n",
       "      <td>...</td>\n",
       "    </tr>\n",
       "    <tr>\n",
       "      <th>195</th>\n",
       "      <td>ㄹㅇ남자직원 왜케 말투 공격적인거에요? 밥먹고 기분좋게 카페와서 커피먹을라고 했는데...</td>\n",
       "      <td>1</td>\n",
       "      <td>unknown</td>\n",
       "    </tr>\n",
       "    <tr>\n",
       "      <th>196</th>\n",
       "      <td>이 가격에 이런 품질의 피자라니, 너무 기분이 좋아요! 도우는 매우 쫄깃하고 고구마...</td>\n",
       "      <td>0</td>\n",
       "      <td>unknown</td>\n",
       "    </tr>\n",
       "    <tr>\n",
       "      <th>197</th>\n",
       "      <td>겉은 바삭바삭한데, 치킨 메뉴가 많고 주인부부가 인상적이어서 들어갔는데 바로 나왔어...</td>\n",
       "      <td>1</td>\n",
       "      <td>unknown</td>\n",
       "    </tr>\n",
       "    <tr>\n",
       "      <th>198</th>\n",
       "      <td>단체로 와서 잘먹긴했지만 회만 먹은것도 아니고 술도 시키면서 먹고있는데 \"적당히\"드...</td>\n",
       "      <td>1</td>\n",
       "      <td>unknown</td>\n",
       "    </tr>\n",
       "    <tr>\n",
       "      <th>199</th>\n",
       "      <td>★★★☆(3.5) 모둠 초밥(12,000원)은 정말 가성비가 좋아요! 처음에 참소라...</td>\n",
       "      <td>1</td>\n",
       "      <td>unknown</td>\n",
       "    </tr>\n",
       "  </tbody>\n",
       "</table>\n",
       "<p>200 rows × 3 columns</p>\n",
       "</div>"
      ],
      "text/plain": [
       "                                                  text  new_label   result\n",
       "0    직원들 마음에 들지 않는다는 것은 알겠지만, 가지 말아야 할까? 인터넷에서 싸게 살...          0  unknown\n",
       "1    분위기 최고! 2층 창문이 넓어서 공기가 통하는 느낌이에요. 조명도 멋지고 음료와 ...          0  unknown\n",
       "2    일단, 장사가 잘 되길 바라는 마음에서 별 다섯 개 드립니다. 간도 딱 맞았고, 저...          1  unknown\n",
       "3    1편의 독특함 때문에 살짝 뒤로 밀린 느낌이 있지만, 여전히 재미있어요. 게임 시스...          0  unknown\n",
       "4    빵점 주고 싶은걸 간신히 참았다...이런건 사상 유래가 없는,조지 루카스 영감의 스...          0  unknown\n",
       "..                                                 ...        ...      ...\n",
       "195  ㄹㅇ남자직원 왜케 말투 공격적인거에요? 밥먹고 기분좋게 카페와서 커피먹을라고 했는데...          1  unknown\n",
       "196  이 가격에 이런 품질의 피자라니, 너무 기분이 좋아요! 도우는 매우 쫄깃하고 고구마...          0  unknown\n",
       "197  겉은 바삭바삭한데, 치킨 메뉴가 많고 주인부부가 인상적이어서 들어갔는데 바로 나왔어...          1  unknown\n",
       "198  단체로 와서 잘먹긴했지만 회만 먹은것도 아니고 술도 시키면서 먹고있는데 \"적당히\"드...          1  unknown\n",
       "199  ★★★☆(3.5) 모둠 초밥(12,000원)은 정말 가성비가 좋아요! 처음에 참소라...          1  unknown\n",
       "\n",
       "[200 rows x 3 columns]"
      ]
     },
     "execution_count": 30,
     "metadata": {},
     "output_type": "execute_result"
    }
   ],
   "source": [
    "results = []\n",
    "\n",
    "for i in tqdm(range(len(train))):\n",
    "\n",
    "    try:\n",
    "        intext = train['text'][i]\n",
    "        hanspell_sent = spell_checker.check(intext)\n",
    "        CHECKED = hanspell_sent.as_dict()\n",
    "        results.append(CHECKED['errors'])\n",
    "    except:\n",
    "        results.append(\"unknown\")\n",
    "train['result'] = results\n",
    "train.to_csv(\"./train_맞춤법검사.csv\", index=False, encoding=\"utf-8-sig\")\n",
    "train"
   ]
  },
  {
   "cell_type": "markdown",
   "metadata": {},
   "source": [
    "🔸 진짜 맞춤법이 많이 틀린 문장이 사람이 쓴 문장인듯!!"
   ]
  },
  {
   "cell_type": "code",
   "execution_count": 31,
   "metadata": {},
   "outputs": [
    {
     "name": "stderr",
     "output_type": "stream",
     "text": [
      "100%|██████████| 4400/4400 [01:29<00:00, 49.21it/s]\n"
     ]
    },
    {
     "data": {
      "text/html": [
       "<div>\n",
       "<style scoped>\n",
       "    .dataframe tbody tr th:only-of-type {\n",
       "        vertical-align: middle;\n",
       "    }\n",
       "\n",
       "    .dataframe tbody tr th {\n",
       "        vertical-align: top;\n",
       "    }\n",
       "\n",
       "    .dataframe thead th {\n",
       "        text-align: right;\n",
       "    }\n",
       "</style>\n",
       "<table border=\"1\" class=\"dataframe\">\n",
       "  <thead>\n",
       "    <tr style=\"text-align: right;\">\n",
       "      <th></th>\n",
       "      <th>text</th>\n",
       "      <th>result</th>\n",
       "    </tr>\n",
       "  </thead>\n",
       "  <tbody>\n",
       "    <tr>\n",
       "      <th>0</th>\n",
       "      <td>배송은 정말 빨랐어요! 집에서 속옷이 불편한데 입기 싫고, 안 입으면 민망해서 구매...</td>\n",
       "      <td>unknown</td>\n",
       "    </tr>\n",
       "    <tr>\n",
       "      <th>1</th>\n",
       "      <td>배송은 정말 빠르고요~ 집에서 속옷은 불편해서 안 입으려고 했는데, 약간 부끄럽기도...</td>\n",
       "      <td>unknown</td>\n",
       "    </tr>\n",
       "    <tr>\n",
       "      <th>2</th>\n",
       "      <td>배송은 빠르구여~집에서 속옷 불편한데 입긴싫고~안입자니 민망해서 구매했는데~오 사이...</td>\n",
       "      <td>unknown</td>\n",
       "    </tr>\n",
       "    <tr>\n",
       "      <th>3</th>\n",
       "      <td>배송 빨라요~ 속옷 불편한데 입기 싫고~ 안 입으면 민망해서 삿는데~ 사이즈 크네요...</td>\n",
       "      <td>unknown</td>\n",
       "    </tr>\n",
       "    <tr>\n",
       "      <th>4</th>\n",
       "      <td>하.. 원래도 비쌋는데 가격도 더ㅠ올라가고  품질은 더 떨어졌어요..   김밥에 참...</td>\n",
       "      <td>unknown</td>\n",
       "    </tr>\n",
       "    <tr>\n",
       "      <th>...</th>\n",
       "      <td>...</td>\n",
       "      <td>...</td>\n",
       "    </tr>\n",
       "    <tr>\n",
       "      <th>4395</th>\n",
       "      <td>안좋은 리뷰를 왠만해서는 안쓰는데 삼성역 아그라를 정말 좋아해서 자주가는 편인데 아...</td>\n",
       "      <td>unknown</td>\n",
       "    </tr>\n",
       "    <tr>\n",
       "      <th>4396</th>\n",
       "      <td>이 식당이 조금 아쉬웠으면 좋겠습니다. 맛은 평범한 편이지만 직원들의 태도가 너무 ...</td>\n",
       "      <td>unknown</td>\n",
       "    </tr>\n",
       "    <tr>\n",
       "      <th>4397</th>\n",
       "      <td>이런 식당은 정말 아쉽습니다. 보통 맛이지만 직원들의 태도가 너무 실망스럽습니다. ...</td>\n",
       "      <td>unknown</td>\n",
       "    </tr>\n",
       "    <tr>\n",
       "      <th>4398</th>\n",
       "      <td>이런 식당은 정말 망했으면 좋겠어요. 맛은 그냥 그런 편인데 직원들이 정말 불친절해...</td>\n",
       "      <td>unknown</td>\n",
       "    </tr>\n",
       "    <tr>\n",
       "      <th>4399</th>\n",
       "      <td>이런 식당은 정말 망했으면 좋겠습니다. 맛은 보통이나 직원들이 진짜 불핀절해서 기분...</td>\n",
       "      <td>unknown</td>\n",
       "    </tr>\n",
       "  </tbody>\n",
       "</table>\n",
       "<p>4400 rows × 2 columns</p>\n",
       "</div>"
      ],
      "text/plain": [
       "                                                   text   result\n",
       "0     배송은 정말 빨랐어요! 집에서 속옷이 불편한데 입기 싫고, 안 입으면 민망해서 구매...  unknown\n",
       "1     배송은 정말 빠르고요~ 집에서 속옷은 불편해서 안 입으려고 했는데, 약간 부끄럽기도...  unknown\n",
       "2     배송은 빠르구여~집에서 속옷 불편한데 입긴싫고~안입자니 민망해서 구매했는데~오 사이...  unknown\n",
       "3     배송 빨라요~ 속옷 불편한데 입기 싫고~ 안 입으면 민망해서 삿는데~ 사이즈 크네요...  unknown\n",
       "4     하.. 원래도 비쌋는데 가격도 더ㅠ올라가고  품질은 더 떨어졌어요..   김밥에 참...  unknown\n",
       "...                                                 ...      ...\n",
       "4395  안좋은 리뷰를 왠만해서는 안쓰는데 삼성역 아그라를 정말 좋아해서 자주가는 편인데 아...  unknown\n",
       "4396  이 식당이 조금 아쉬웠으면 좋겠습니다. 맛은 평범한 편이지만 직원들의 태도가 너무 ...  unknown\n",
       "4397  이런 식당은 정말 아쉽습니다. 보통 맛이지만 직원들의 태도가 너무 실망스럽습니다. ...  unknown\n",
       "4398  이런 식당은 정말 망했으면 좋겠어요. 맛은 그냥 그런 편인데 직원들이 정말 불친절해...  unknown\n",
       "4399  이런 식당은 정말 망했으면 좋겠습니다. 맛은 보통이나 직원들이 진짜 불핀절해서 기분...  unknown\n",
       "\n",
       "[4400 rows x 2 columns]"
      ]
     },
     "execution_count": 31,
     "metadata": {},
     "output_type": "execute_result"
    }
   ],
   "source": [
    "results = [] #results라는 이름의 빈 리스트를 생성하여, 각 텍스트 항목의 맞춤법 검사 결과를 저장\n",
    "\n",
    "for i in tqdm(range(len(test))): #tqdm은 진행 상황 바(progress bar)를 제공하여, 긴 처리 과정에서 진행 상태를 시각적으로 확인가능\n",
    "\n",
    "    try:\n",
    "        intext = test['text'][i] #: 각 반복에서, test 데이터프레임의 'text' 컬럼에서 i번째 텍스트를 추출하고, 이를 spell_checker.check 메소드에 전달하여 맞춤법 검사를 수행\n",
    "        hanspell_sent = spell_checker.check(intext) #spell_checker은 py-hanspell 패키지의 맞춤법 검사기\n",
    "        CHECKED = hanspell_sent.as_dict() \n",
    "        results.append(CHECKED['errors']) #맞춤법 검사가 실패했거나, 다른 문제가 발생\n",
    "    except:\n",
    "        results.append(\"unknown\")\n",
    "test['result'] = results\n",
    "test.to_csv(\"./test_맞춤법검사.csv\", index=False, encoding=\"utf-8-sig\")\n",
    "test"
   ]
  },
  {
   "cell_type": "code",
   "execution_count": 32,
   "metadata": {},
   "outputs": [
    {
     "data": {
      "text/html": [
       "<div>\n",
       "<style scoped>\n",
       "    .dataframe tbody tr th:only-of-type {\n",
       "        vertical-align: middle;\n",
       "    }\n",
       "\n",
       "    .dataframe tbody tr th {\n",
       "        vertical-align: top;\n",
       "    }\n",
       "\n",
       "    .dataframe thead th {\n",
       "        text-align: right;\n",
       "    }\n",
       "</style>\n",
       "<table border=\"1\" class=\"dataframe\">\n",
       "  <thead>\n",
       "    <tr style=\"text-align: right;\">\n",
       "      <th></th>\n",
       "      <th>id</th>\n",
       "      <th>answer</th>\n",
       "    </tr>\n",
       "  </thead>\n",
       "  <tbody>\n",
       "    <tr>\n",
       "      <th>0</th>\n",
       "      <td>0</td>\n",
       "      <td>42</td>\n",
       "    </tr>\n",
       "  </tbody>\n",
       "</table>\n",
       "</div>"
      ],
      "text/plain": [
       "   id answer\n",
       "0   0     42"
      ]
     },
     "execution_count": 32,
     "metadata": {},
     "output_type": "execute_result"
    }
   ],
   "source": [
    "import pandas as pd\n",
    "\n",
    "# test 데이터프레임 생성 예시 (임시 데이터)\n",
    "test = pd.DataFrame({\n",
    "    'text': ['이것은 예시 문장입니다.', '두 번째 예시 문장입니다.', '세 번째 예시 문장입니다.', '네 번째 예시 문장입니다.']\n",
    "})\n",
    "\n",
    "# 임의의 'result' 컬럼 데이터 생성 예시\n",
    "# 실제로는 여기서 맞춤법 검사를 수행하여 오류 수를 계산해야 합니다.\n",
    "test['result'] = [1, 2, 0, 3]  # 임시로 오류 수를 할당\n",
    "\n",
    "# 여기서부터 기존 코드 재사용\n",
    "def get_top_two_errors_grouped(group):\n",
    "    error_counts = group['result'].tolist()\n",
    "    top_two_indices = sorted(range(4), key=lambda k: error_counts[k], reverse=True)[:2]\n",
    "    return ''.join(str(i+1) for i in top_two_indices)\n",
    "\n",
    "grouped_answers = test.groupby(test.index // 4).apply(get_top_two_errors_grouped).reset_index(drop=True)\n",
    "\n",
    "result_df_grouped = pd.DataFrame({\n",
    "    \"id\": grouped_answers.index,\n",
    "    \"answer\": grouped_answers.values\n",
    "})\n",
    "\n",
    "result_df_grouped\n"
   ]
  },
  {
   "cell_type": "code",
   "execution_count": 33,
   "metadata": {},
   "outputs": [],
   "source": [
    "submission = pd.read_csv(\"./sample_submission.csv\")"
   ]
  },
  {
   "cell_type": "code",
   "execution_count": 34,
   "metadata": {},
   "outputs": [],
   "source": [
    "submission['label'] = result_df_grouped['answer']"
   ]
  },
  {
   "cell_type": "code",
   "execution_count": 35,
   "metadata": {},
   "outputs": [
    {
     "data": {
      "text/html": [
       "<div>\n",
       "<style scoped>\n",
       "    .dataframe tbody tr th:only-of-type {\n",
       "        vertical-align: middle;\n",
       "    }\n",
       "\n",
       "    .dataframe tbody tr th {\n",
       "        vertical-align: top;\n",
       "    }\n",
       "\n",
       "    .dataframe thead th {\n",
       "        text-align: right;\n",
       "    }\n",
       "</style>\n",
       "<table border=\"1\" class=\"dataframe\">\n",
       "  <thead>\n",
       "    <tr style=\"text-align: right;\">\n",
       "      <th></th>\n",
       "      <th>id</th>\n",
       "      <th>label</th>\n",
       "    </tr>\n",
       "  </thead>\n",
       "  <tbody>\n",
       "    <tr>\n",
       "      <th>0</th>\n",
       "      <td>TEST_0000</td>\n",
       "      <td>42</td>\n",
       "    </tr>\n",
       "    <tr>\n",
       "      <th>1</th>\n",
       "      <td>TEST_0001</td>\n",
       "      <td>NaN</td>\n",
       "    </tr>\n",
       "    <tr>\n",
       "      <th>2</th>\n",
       "      <td>TEST_0002</td>\n",
       "      <td>NaN</td>\n",
       "    </tr>\n",
       "    <tr>\n",
       "      <th>3</th>\n",
       "      <td>TEST_0003</td>\n",
       "      <td>NaN</td>\n",
       "    </tr>\n",
       "    <tr>\n",
       "      <th>4</th>\n",
       "      <td>TEST_0004</td>\n",
       "      <td>NaN</td>\n",
       "    </tr>\n",
       "    <tr>\n",
       "      <th>...</th>\n",
       "      <td>...</td>\n",
       "      <td>...</td>\n",
       "    </tr>\n",
       "    <tr>\n",
       "      <th>1095</th>\n",
       "      <td>TEST_1095</td>\n",
       "      <td>NaN</td>\n",
       "    </tr>\n",
       "    <tr>\n",
       "      <th>1096</th>\n",
       "      <td>TEST_1096</td>\n",
       "      <td>NaN</td>\n",
       "    </tr>\n",
       "    <tr>\n",
       "      <th>1097</th>\n",
       "      <td>TEST_1097</td>\n",
       "      <td>NaN</td>\n",
       "    </tr>\n",
       "    <tr>\n",
       "      <th>1098</th>\n",
       "      <td>TEST_1098</td>\n",
       "      <td>NaN</td>\n",
       "    </tr>\n",
       "    <tr>\n",
       "      <th>1099</th>\n",
       "      <td>TEST_1099</td>\n",
       "      <td>NaN</td>\n",
       "    </tr>\n",
       "  </tbody>\n",
       "</table>\n",
       "<p>1100 rows × 2 columns</p>\n",
       "</div>"
      ],
      "text/plain": [
       "             id label\n",
       "0     TEST_0000    42\n",
       "1     TEST_0001   NaN\n",
       "2     TEST_0002   NaN\n",
       "3     TEST_0003   NaN\n",
       "4     TEST_0004   NaN\n",
       "...         ...   ...\n",
       "1095  TEST_1095   NaN\n",
       "1096  TEST_1096   NaN\n",
       "1097  TEST_1097   NaN\n",
       "1098  TEST_1098   NaN\n",
       "1099  TEST_1099   NaN\n",
       "\n",
       "[1100 rows x 2 columns]"
      ]
     },
     "execution_count": 35,
     "metadata": {},
     "output_type": "execute_result"
    }
   ],
   "source": [
    "submission"
   ]
  },
  {
   "cell_type": "code",
   "execution_count": 36,
   "metadata": {},
   "outputs": [],
   "source": [
    "submission.to_csv(\"./rulebase.csv\", index=False)"
   ]
  },
  {
   "cell_type": "markdown",
   "metadata": {},
   "source": [
    "train과 새로 생성된 test의 라벨을 합쳐서 train_preprocessed2.csv 파일 만들기\n",
    "\n",
    "rulebase를 기반으로 가장 확률이 높았던 것을 라벨로 사용해, koelectra를 통해 학습시킴\n",
    "\n",
    "이를 통해 실제 업무에서도, 새로 들어오는 데이터를 주기적으로 받아서, 모델 업데이트 가능\n",
    "\n",
    "🔸 요약하면 rulebase로 맞춤법 검사를 통해 labeling을 한 후, 기존의 학습 데이터와 결합해서 더 큰 데이터를 통해 맞춤법 검사기가 놓친 요소들을 잡아낼 수 있을 것임"
   ]
  },
  {
   "cell_type": "markdown",
   "metadata": {},
   "source": [
    "📌 여기서 부터 학습 코드"
   ]
  },
  {
   "cell_type": "code",
   "execution_count": 37,
   "metadata": {},
   "outputs": [],
   "source": [
    "import warnings\n",
    "warnings.filterwarnings(\"ignore\")\n",
    "\n",
    "import numpy as np\n",
    "import pandas as pd\n",
    "import matplotlib.pyplot as plt\n",
    "import seaborn as sns\n",
    "from tqdm.notebook import tqdm\n",
    "from typing import Dict, List, Set, Callable, Optional\n",
    "from IPython.display import clear_output\n",
    "\n",
    "from matplotlib.axes import Axes\n",
    "from wordcloud import WordCloud\n",
    "from itertools import chain\n",
    "from collections import Counter\n",
    "import re\n",
    "import random\n",
    "import os"
   ]
  },
  {
   "cell_type": "code",
   "execution_count": 38,
   "metadata": {},
   "outputs": [],
   "source": [
    "def seed_everything(seed):\n",
    "    random.seed(seed)\n",
    "    os.environ['PYTHONHASHSEED'] = str(seed)\n",
    "    np.random.seed(seed)\n",
    "\n",
    "seed_everything(42)"
   ]
  },
  {
   "cell_type": "markdown",
   "metadata": {},
   "source": [
    "## Load Data"
   ]
  },
  {
   "cell_type": "code",
   "execution_count": 39,
   "metadata": {},
   "outputs": [
    {
     "name": "stdout",
     "output_type": "stream",
     "text": [
      "(200, 2)\n"
     ]
    },
    {
     "data": {
      "text/html": [
       "<div>\n",
       "<style scoped>\n",
       "    .dataframe tbody tr th:only-of-type {\n",
       "        vertical-align: middle;\n",
       "    }\n",
       "\n",
       "    .dataframe tbody tr th {\n",
       "        vertical-align: top;\n",
       "    }\n",
       "\n",
       "    .dataframe thead th {\n",
       "        text-align: right;\n",
       "    }\n",
       "</style>\n",
       "<table border=\"1\" class=\"dataframe\">\n",
       "  <thead>\n",
       "    <tr style=\"text-align: right;\">\n",
       "      <th></th>\n",
       "      <th>text</th>\n",
       "      <th>new_label</th>\n",
       "    </tr>\n",
       "  </thead>\n",
       "  <tbody>\n",
       "    <tr>\n",
       "      <th>0</th>\n",
       "      <td>직원들 마음에 들지 않는다는 것은 알겠지만, 가지 말아야 할까? 인터넷에서 싸게 살...</td>\n",
       "      <td>0</td>\n",
       "    </tr>\n",
       "    <tr>\n",
       "      <th>1</th>\n",
       "      <td>분위기 최고! 2층 창문이 넓어서 공기가 통하는 느낌이에요. 조명도 멋지고 음료와 ...</td>\n",
       "      <td>0</td>\n",
       "    </tr>\n",
       "    <tr>\n",
       "      <th>2</th>\n",
       "      <td>일단, 장사가 잘 되길 바라는 마음에서 별 다섯 개 드립니다. 간도 딱 맞았고, 저...</td>\n",
       "      <td>1</td>\n",
       "    </tr>\n",
       "    <tr>\n",
       "      <th>3</th>\n",
       "      <td>1편의 독특함 때문에 살짝 뒤로 밀린 느낌이 있지만, 여전히 재미있어요. 게임 시스...</td>\n",
       "      <td>0</td>\n",
       "    </tr>\n",
       "    <tr>\n",
       "      <th>4</th>\n",
       "      <td>빵점 주고 싶은걸 간신히 참았다...이런건 사상 유래가 없는,조지 루카스 영감의 스...</td>\n",
       "      <td>0</td>\n",
       "    </tr>\n",
       "  </tbody>\n",
       "</table>\n",
       "</div>"
      ],
      "text/plain": [
       "                                                text  new_label\n",
       "0  직원들 마음에 들지 않는다는 것은 알겠지만, 가지 말아야 할까? 인터넷에서 싸게 살...          0\n",
       "1  분위기 최고! 2층 창문이 넓어서 공기가 통하는 느낌이에요. 조명도 멋지고 음료와 ...          0\n",
       "2  일단, 장사가 잘 되길 바라는 마음에서 별 다섯 개 드립니다. 간도 딱 맞았고, 저...          1\n",
       "3  1편의 독특함 때문에 살짝 뒤로 밀린 느낌이 있지만, 여전히 재미있어요. 게임 시스...          0\n",
       "4  빵점 주고 싶은걸 간신히 참았다...이런건 사상 유래가 없는,조지 루카스 영감의 스...          0"
      ]
     },
     "execution_count": 39,
     "metadata": {},
     "output_type": "execute_result"
    }
   ],
   "source": [
    "train = pd.read_csv(r'C:\\Users\\jyjj0\\OneDrive\\바탕 화면\\Algorithm Study\\AI vs Human 텍스트 판별 해커톤 data\\final_train.csv')\n",
    "test = pd.read_csv(r'C:\\Users\\jyjj0\\OneDrive\\바탕 화면\\Algorithm Study\\AI vs Human 텍스트 판별 해커톤 data\\test_preprocessed.csv')\n",
    "submission = pd.read_csv(r'C:\\Users\\jyjj0\\OneDrive\\바탕 화면\\Algorithm Study\\AI vs Human 텍스트 판별 해커톤 data\\sample_submission.csv')\n",
    "print(train.shape)\n",
    "train.head()"
   ]
  },
  {
   "cell_type": "code",
   "execution_count": 41,
   "metadata": {},
   "outputs": [
    {
     "name": "stdout",
     "output_type": "stream",
     "text": [
      "Requirement already satisfied: torch in c:\\users\\jyjj0\\appdata\\local\\programs\\python\\python311\\lib\\site-packages (2.1.0)\n",
      "Requirement already satisfied: torchvision in c:\\users\\jyjj0\\appdata\\local\\programs\\python\\python311\\lib\\site-packages (0.16.0)\n",
      "Requirement already satisfied: torchaudio in c:\\users\\jyjj0\\appdata\\local\\programs\\python\\python311\\lib\\site-packages (2.1.0)\n",
      "Requirement already satisfied: filelock in c:\\users\\jyjj0\\appdata\\local\\programs\\python\\python311\\lib\\site-packages (from torch) (3.13.1)\n",
      "Requirement already satisfied: typing-extensions in c:\\users\\jyjj0\\appdata\\local\\programs\\python\\python311\\lib\\site-packages (from torch) (4.8.0)\n",
      "Requirement already satisfied: sympy in c:\\users\\jyjj0\\appdata\\local\\programs\\python\\python311\\lib\\site-packages (from torch) (1.12)\n",
      "Requirement already satisfied: networkx in c:\\users\\jyjj0\\appdata\\local\\programs\\python\\python311\\lib\\site-packages (from torch) (3.2.1)\n",
      "Requirement already satisfied: jinja2 in c:\\users\\jyjj0\\appdata\\local\\programs\\python\\python311\\lib\\site-packages (from torch) (3.1.2)\n",
      "Requirement already satisfied: fsspec in c:\\users\\jyjj0\\appdata\\local\\programs\\python\\python311\\lib\\site-packages (from torch) (2023.10.0)\n",
      "Requirement already satisfied: numpy in c:\\users\\jyjj0\\appdata\\local\\programs\\python\\python311\\lib\\site-packages (from torchvision) (1.24.2)\n",
      "Requirement already satisfied: requests in c:\\users\\jyjj0\\appdata\\local\\programs\\python\\python311\\lib\\site-packages (from torchvision) (2.31.0)\n",
      "Requirement already satisfied: pillow!=8.3.*,>=5.3.0 in c:\\users\\jyjj0\\appdata\\local\\programs\\python\\python311\\lib\\site-packages (from torchvision) (10.0.1)\n",
      "Requirement already satisfied: MarkupSafe>=2.0 in c:\\users\\jyjj0\\appdata\\local\\programs\\python\\python311\\lib\\site-packages (from jinja2->torch) (2.1.2)\n",
      "Requirement already satisfied: charset-normalizer<4,>=2 in c:\\users\\jyjj0\\appdata\\local\\programs\\python\\python311\\lib\\site-packages (from requests->torchvision) (3.2.0)\n",
      "Requirement already satisfied: idna<4,>=2.5 in c:\\users\\jyjj0\\appdata\\local\\programs\\python\\python311\\lib\\site-packages (from requests->torchvision) (3.4)\n",
      "Requirement already satisfied: urllib3<3,>=1.21.1 in c:\\users\\jyjj0\\appdata\\local\\programs\\python\\python311\\lib\\site-packages (from requests->torchvision) (2.0.4)\n",
      "Requirement already satisfied: certifi>=2017.4.17 in c:\\users\\jyjj0\\appdata\\local\\programs\\python\\python311\\lib\\site-packages (from requests->torchvision) (2023.7.22)\n",
      "Requirement already satisfied: mpmath>=0.19 in c:\\users\\jyjj0\\appdata\\local\\programs\\python\\python311\\lib\\site-packages (from sympy->torch) (1.3.0)\n"
     ]
    },
    {
     "name": "stderr",
     "output_type": "stream",
     "text": [
      "DEPRECATION: Loading egg at c:\\users\\jyjj0\\appdata\\local\\programs\\python\\python311\\lib\\site-packages\\py_hanspell-1.1-py3.11.egg is deprecated. pip 24.3 will enforce this behaviour change. A possible replacement is to use pip for package installation.. Discussion can be found at https://github.com/pypa/pip/issues/12330\n"
     ]
    }
   ],
   "source": [
    "!pip install torch torchvision torchaudio"
   ]
  },
  {
   "cell_type": "code",
   "execution_count": 42,
   "metadata": {
    "executionInfo": {
     "elapsed": 5309,
     "status": "ok",
     "timestamp": 1658543026756,
     "user": {
      "displayName": "Myst",
      "userId": "17405133242292037053"
     },
     "user_tz": -540
    },
    "id": "tvmb0hXvATAQ"
   },
   "outputs": [
    {
     "ename": "ModuleNotFoundError",
     "evalue": "No module named 'torch'",
     "output_type": "error",
     "traceback": [
      "\u001b[1;31m---------------------------------------------------------------------------\u001b[0m",
      "\u001b[1;31mModuleNotFoundError\u001b[0m                       Traceback (most recent call last)",
      "\u001b[1;32m~\\AppData\\Local\\Temp\\ipykernel_54060\\4264349391.py\u001b[0m in \u001b[0;36m<module>\u001b[1;34m\u001b[0m\n\u001b[1;32m----> 1\u001b[1;33m \u001b[1;32mimport\u001b[0m \u001b[0mtorch\u001b[0m\u001b[1;33m\u001b[0m\u001b[1;33m\u001b[0m\u001b[0m\n\u001b[0m\u001b[0;32m      2\u001b[0m \u001b[1;32mfrom\u001b[0m \u001b[0mtransformers\u001b[0m \u001b[1;32mimport\u001b[0m \u001b[0mAutoTokenizer\u001b[0m\u001b[1;33m,\u001b[0m \u001b[0mAutoModelForSequenceClassification\u001b[0m\u001b[1;33m\u001b[0m\u001b[1;33m\u001b[0m\u001b[0m\n\u001b[0;32m      3\u001b[0m \u001b[1;32mfrom\u001b[0m \u001b[0mtransformers\u001b[0m \u001b[1;32mimport\u001b[0m \u001b[0mEarlyStoppingCallback\u001b[0m\u001b[1;33m,\u001b[0m \u001b[0mTrainingArguments\u001b[0m\u001b[1;33m,\u001b[0m \u001b[0mTrainer\u001b[0m\u001b[1;33m\u001b[0m\u001b[1;33m\u001b[0m\u001b[0m\n\u001b[0;32m      4\u001b[0m \u001b[1;32mfrom\u001b[0m \u001b[0mtransformers\u001b[0m\u001b[1;33m.\u001b[0m\u001b[0mtokenization_utils_base\u001b[0m \u001b[1;32mimport\u001b[0m \u001b[0mBatchEncoding\u001b[0m\u001b[1;33m\u001b[0m\u001b[1;33m\u001b[0m\u001b[0m\n\u001b[0;32m      5\u001b[0m \u001b[1;32mfrom\u001b[0m \u001b[0mtransformers\u001b[0m\u001b[1;33m.\u001b[0m\u001b[0mtrainer_utils\u001b[0m \u001b[1;32mimport\u001b[0m \u001b[0mEvalPrediction\u001b[0m\u001b[1;33m\u001b[0m\u001b[1;33m\u001b[0m\u001b[0m\n",
      "\u001b[1;31mModuleNotFoundError\u001b[0m: No module named 'torch'"
     ]
    }
   ],
   "source": [
    "import torch\n",
    "from transformers import AutoTokenizer, AutoModelForSequenceClassification\n",
    "from transformers import EarlyStoppingCallback, TrainingArguments, Trainer\n",
    "from transformers.tokenization_utils_base import BatchEncoding\n",
    "from transformers.trainer_utils import EvalPrediction\n",
    "from datasets import load_dataset\n",
    "from datasets.arrow_dataset import Dataset\n",
    "from sklearn.metrics import accuracy_score"
   ]
  },
  {
   "cell_type": "code",
   "execution_count": null,
   "metadata": {
    "executionInfo": {
     "elapsed": 8,
     "status": "ok",
     "timestamp": 1658543026757,
     "user": {
      "displayName": "Myst",
      "userId": "17405133242292037053"
     },
     "user_tz": -540
    },
    "id": "njB3IC81ATAT"
   },
   "outputs": [],
   "source": [
    "MAX_LEN = 128\n",
    "VALID_SPLIT = 0.1\n",
    "EPOCHS = 30\n",
    "LEARNING_RATE = 1e-5\n",
    "DR_RATE = 0.3\n",
    "WARMUP_STEPS = 500\n",
    "WEIGHT_DECAY = 0.01\n",
    "METRIC = 'accuracy'\n",
    "\n",
    "device = torch.device('cuda') if torch.cuda.is_available() else torch.device('cpu')\n",
    "\n",
    "# KoELECTRA Training\n",
    "MODEL_NAME = 'koelectra'\n",
    "MODEL_PATH = 'jaehyeong/koelectra-base-v3-generalized-sentiment-analysis'\n",
    "BATCH_SIZE = 64"
   ]
  },
  {
   "cell_type": "markdown",
   "metadata": {
    "id": "e9LKm4tGATAT"
   },
   "source": [
    "### Load Datasets"
   ]
  },
  {
   "cell_type": "code",
   "execution_count": null,
   "metadata": {
    "colab": {
     "base_uri": "https://localhost:8080/",
     "height": 224
    },
    "executionInfo": {
     "elapsed": 1353,
     "status": "ok",
     "timestamp": 1658543039307,
     "user": {
      "displayName": "Myst",
      "userId": "17405133242292037053"
     },
     "user_tz": -540
    },
    "id": "blQELVRuATAT",
    "outputId": "4d44b0ea-b4a8-4c8b-ff27-4ea059efb6fc"
   },
   "outputs": [
    {
     "name": "stdout",
     "output_type": "stream",
     "text": [
      "(4600, 2)\n"
     ]
    },
    {
     "data": {
      "text/html": [
       "<div>\n",
       "<style scoped>\n",
       "    .dataframe tbody tr th:only-of-type {\n",
       "        vertical-align: middle;\n",
       "    }\n",
       "\n",
       "    .dataframe tbody tr th {\n",
       "        vertical-align: top;\n",
       "    }\n",
       "\n",
       "    .dataframe thead th {\n",
       "        text-align: right;\n",
       "    }\n",
       "</style>\n",
       "<table border=\"1\" class=\"dataframe\">\n",
       "  <thead>\n",
       "    <tr style=\"text-align: right;\">\n",
       "      <th></th>\n",
       "      <th>text</th>\n",
       "      <th>label</th>\n",
       "    </tr>\n",
       "  </thead>\n",
       "  <tbody>\n",
       "    <tr>\n",
       "      <th>0</th>\n",
       "      <td>직원들 마음에 들지 않는다는 것은 알겠지만, 가지 말아야 할까? 인터넷에서 싸게 살...</td>\n",
       "      <td>0</td>\n",
       "    </tr>\n",
       "    <tr>\n",
       "      <th>1</th>\n",
       "      <td>분위기 최고! 2층 창문이 넓어서 공기가 통하는 느낌이에요. 조명도 멋지고 음료와 ...</td>\n",
       "      <td>0</td>\n",
       "    </tr>\n",
       "    <tr>\n",
       "      <th>2</th>\n",
       "      <td>일단, 장사가 잘 되길 바라는 마음에서 별 다섯 개 드립니다. 간도 딱 맞았고, 저...</td>\n",
       "      <td>0</td>\n",
       "    </tr>\n",
       "    <tr>\n",
       "      <th>3</th>\n",
       "      <td>1편의 독특함 때문에 살짝 뒤로 밀린 느낌이 있지만, 여전히 재미있어요. 게임 시스...</td>\n",
       "      <td>0</td>\n",
       "    </tr>\n",
       "    <tr>\n",
       "      <th>4</th>\n",
       "      <td>빵점 주고 싶은걸 간신히 참았다...이런건 사상 유래가 없는,조지 루카스 영감의 스...</td>\n",
       "      <td>1</td>\n",
       "    </tr>\n",
       "  </tbody>\n",
       "</table>\n",
       "</div>"
      ],
      "text/plain": [
       "                                                text  label\n",
       "0  직원들 마음에 들지 않는다는 것은 알겠지만, 가지 말아야 할까? 인터넷에서 싸게 살...      0\n",
       "1  분위기 최고! 2층 창문이 넓어서 공기가 통하는 느낌이에요. 조명도 멋지고 음료와 ...      0\n",
       "2  일단, 장사가 잘 되길 바라는 마음에서 별 다섯 개 드립니다. 간도 딱 맞았고, 저...      0\n",
       "3  1편의 독특함 때문에 살짝 뒤로 밀린 느낌이 있지만, 여전히 재미있어요. 게임 시스...      0\n",
       "4  빵점 주고 싶은걸 간신히 참았다...이런건 사상 유래가 없는,조지 루카스 영감의 스...      1"
      ]
     },
     "metadata": {},
     "output_type": "display_data"
    }
   ],
   "source": [
    "train = pd.read_csv('./train_preprocessed2.csv')\n",
    "LABELS = [0,1]\n",
    "id2label = {idx:label for idx, label in enumerate(LABELS)}\n",
    "label2id = {label:idx for idx, label in enumerate(LABELS)}\n",
    "print(train.shape)\n",
    "train.head()"
   ]
  },
  {
   "cell_type": "code",
   "execution_count": null,
   "metadata": {
    "colab": {
     "base_uri": "https://localhost:8080/",
     "height": 220,
     "referenced_widgets": [
      "0e473018f7ff4c12bb54903b96a7c70f",
      "4dbcf59370bb4bb28c1bdfb672a66eb1",
      "fcff6c2f68e24c9db752f2d507beb7ae",
      "01c7799a086a41ac88fd14a1d2a7a2ed",
      "5d1effa633814bb2acba02d5c94dff2b",
      "df5a95ac4f7545009f47f33168bdf484",
      "8c9d41d2489a4a5b95baa50db21b9c29",
      "156117c4de1e4062b2eb0c7a8183b4c4",
      "d2c6c8556511404a8b4c3937f58605a9",
      "d6215f58a969400fa60f96b723f65575",
      "7324e98c015d4ba69ea7607b9162eb19",
      "464a16e94c4a4be9ab6cc47e03ba88ab",
      "e9f71c576abe4cdd97bf3a5b9678d333",
      "7241961a51334df4857092ae9bb259b6",
      "f0f19be4b84a49cb8a6519687e25a54b",
      "8c82aac0cde34719b335c309a2ab846e",
      "faca2ced288743b6823b28e1e3aec04a",
      "25de49dd31364ddab693feef9a5166a2",
      "a54711da9cfb46dfade7e3bb424c2a36",
      "d90776f170954e409f1ccdb57aec5d78",
      "e61af0d40cfb416aa2df9c0bbe171048",
      "57c310d676bf413fb87d45ed312285ad",
      "b79a565e2f65467cb4cc480d8b20844b",
      "de50f6fa291e426c90f25ecbb51908c2",
      "708d15fe79ac459eb6dfc9ba4ea9ff38",
      "c50955b69d764957b176fc219e1b3460",
      "94b569c22408418ab34eddc6e6e0c3ff",
      "0b1b18de22f94c8bace481e4c7b510a1",
      "3f627716d44c442592968a080e971088",
      "e196fc04fc8c45c0ab65027cfcabf097",
      "8dcd6f1059bb41d087258ed9c04f4196",
      "9f9f9391649148b8af512c26c7ee2eb3",
      "5f0e8362e2db4cf7b24b4ec36b1e8391",
      "c7c19acf84bb499bb49430ff56abae47",
      "6286daeba2574045baa188053f66293e",
      "6fee6d14950240af9cd49abae0dd79a3",
      "a35127d9ced140a58fe46b295e3c0e18",
      "59bbef7c8df44e43b9c9ae5a68d6eaea",
      "fb405f357475412da97839c4365d1538",
      "f6783fe0d7034186bef8004dd66cf094",
      "df6ab1736bfe4d3a92043dd5faa3f701",
      "073febfd6fc243489eb109e2b11cf182",
      "9824190c167640e5b651852f785ff08a",
      "7b6d6be25b8c4e2eb8e9f7e76f7fa91a",
      "77aa2e2621e543b4b30f739645f73087"
     ]
    },
    "executionInfo": {
     "elapsed": 5401,
     "status": "ok",
     "timestamp": 1658543044702,
     "user": {
      "displayName": "Myst",
      "userId": "17405133242292037053"
     },
     "user_tz": -540
    },
    "id": "0q2Zf7C4ATAV",
    "outputId": "6c8071cd-6f2b-4c36-9460-022af515d5bf"
   },
   "outputs": [
    {
     "name": "stdout",
     "output_type": "stream",
     "text": [
      "(4140, 2) (460, 2) (4400, 1)\n"
     ]
    }
   ],
   "source": [
    "train_dataset = load_dataset('csv', data_files='./train_preprocessed2.csv', split='train')\n",
    "test_dataset = load_dataset('csv', data_files='./test_preprocessed.csv', split='train')\n",
    "train_dataset = train_dataset.train_test_split(test_size=VALID_SPLIT)\n",
    "clear_output()\n",
    "print(train_dataset['train'].shape, train_dataset['test'].shape, test_dataset.shape)"
   ]
  },
  {
   "cell_type": "markdown",
   "metadata": {
    "id": "jnjLsYUfATAW"
   },
   "source": [
    "### Tokenization"
   ]
  },
  {
   "cell_type": "code",
   "execution_count": null,
   "metadata": {
    "executionInfo": {
     "elapsed": 11,
     "status": "ok",
     "timestamp": 1658543044703,
     "user": {
      "displayName": "Myst",
      "userId": "17405133242292037053"
     },
     "user_tz": -540
    },
    "id": "h00avBx4ATAW"
   },
   "outputs": [],
   "source": [
    "def tokenize(model_path: str) -> Callable[[Dataset],BatchEncoding]:\n",
    "    tokenizer = AutoTokenizer.from_pretrained(model_path, problem_type='multi_label_classification')\n",
    "    clear_output()\n",
    "    return lambda examples: tokenizer(examples['text'], max_length=MAX_LEN, padding='max_length', truncation=True)\n",
    "\n",
    "def one_hot(examples: Dataset) -> Dict[str,np.ndarray]:\n",
    "    return {'labels':np.eye(len(LABELS))[label2id[examples['label']]]}\n",
    "\n",
    "def preprocess(data: Dataset, model_path: str, labeled=True) -> Dataset:\n",
    "    encoded = data.map(tokenize(model_path), batched=True, remove_columns=['text'], load_from_cache_file=False)\n",
    "    encoded = encoded.map(one_hot, remove_columns=['label'], load_from_cache_file=False) if labeled else encoded\n",
    "    encoded.set_format('torch')\n",
    "    return encoded"
   ]
  },
  {
   "cell_type": "markdown",
   "metadata": {
    "id": "2lJlDLKnATAX"
   },
   "source": [
    "### Load Model"
   ]
  },
  {
   "cell_type": "code",
   "execution_count": null,
   "metadata": {
    "executionInfo": {
     "elapsed": 9,
     "status": "ok",
     "timestamp": 1658543044703,
     "user": {
      "displayName": "Myst",
      "userId": "17405133242292037053"
     },
     "user_tz": -540
    },
    "id": "qGnmTZ9PATAX"
   },
   "outputs": [],
   "source": [
    "def model(model_path: str) -> AutoModelForSequenceClassification:\n",
    "    model = AutoModelForSequenceClassification.from_pretrained(\n",
    "        model_path,\n",
    "        problem_type='multi_label_classification',\n",
    "        # problem_type='binary_classification',\n",
    "        ignore_mismatched_sizes=True,\n",
    "        num_labels=len(LABELS),\n",
    "        id2label=id2label,\n",
    "        label2id=label2id,).to(device)\n",
    "    clear_output()\n",
    "\n",
    "    return model"
   ]
  },
  {
   "cell_type": "code",
   "execution_count": null,
   "metadata": {
    "executionInfo": {
     "elapsed": 9,
     "status": "ok",
     "timestamp": 1658543044703,
     "user": {
      "displayName": "Myst",
      "userId": "17405133242292037053"
     },
     "user_tz": -540
    },
    "id": "mlnTBZG_ATAY"
   },
   "outputs": [],
   "source": [
    "def compute_metrics(p: EvalPrediction) -> Dict[str,float]:\n",
    "    predictions, labels = p\n",
    "    y_pred = np.argmax(predictions, axis=1)\n",
    "    y_true = np.argmax(labels, axis=1)\n",
    "    return {\n",
    "        'accuracy': accuracy_score(y_true=y_true, y_pred=y_pred),\n",
    "    }"
   ]
  },
  {
   "cell_type": "markdown",
   "metadata": {
    "id": "AIzv4EyYATAY"
   },
   "source": [
    "### Load Trainer"
   ]
  },
  {
   "cell_type": "code",
   "execution_count": null,
   "metadata": {
    "executionInfo": {
     "elapsed": 10,
     "status": "ok",
     "timestamp": 1658543044704,
     "user": {
      "displayName": "Myst",
      "userId": "17405133242292037053"
     },
     "user_tz": -540
    },
    "id": "kIwjDJbiATAZ"
   },
   "outputs": [],
   "source": [
    "from pathlib import Path\n",
    "\n",
    "def make_dirs(name: str) -> Dict[str,str]:\n",
    "    \n",
    "    output_dir = os.path.join('./saved/models', name)\n",
    "    logging_dir = os.path.join('./saved/logger', name)\n",
    "    exist_ok = name == ''\n",
    "    \n",
    "    try:\n",
    "        Path(output_dir).mkdir(parents=True, exist_ok=exist_ok)\n",
    "        Path(logging_dir).mkdir(parents=True, exist_ok=exist_ok)\n",
    "    except:\n",
    "        pass\n",
    "    \n",
    "    return output_dir, logging_dir\n",
    "\n",
    "def training_args(model_name: str) -> TrainingArguments:\n",
    "    output_dir, logging_dir = make_dirs(model_name)\n",
    "    return TrainingArguments(\n",
    "        output_dir=output_dir,\n",
    "        evaluation_strategy='epoch',\n",
    "        save_strategy='epoch',\n",
    "        num_train_epochs=EPOCHS,\n",
    "        per_device_train_batch_size=BATCH_SIZE,\n",
    "        per_device_eval_batch_size=BATCH_SIZE,\n",
    "        learning_rate=LEARNING_RATE,\n",
    "        warmup_steps=WARMUP_STEPS,\n",
    "        weight_decay=WEIGHT_DECAY,\n",
    "        logging_dir=logging_dir,\n",
    "        load_best_model_at_end=True,\n",
    "        metric_for_best_model=METRIC,\n",
    "    )\n",
    "\n",
    "def trainer(dataset: Dataset, model_name: str, model_path: str, labeled=True) -> Trainer:\n",
    "    data_loader = preprocess(dataset, model_path, labeled)\n",
    "\n",
    "    return Trainer(\n",
    "        model=model(model_path),\n",
    "        args=training_args(model_name),\n",
    "        train_dataset=data_loader['train'],\n",
    "        eval_dataset=data_loader['test'],\n",
    "        compute_metrics=compute_metrics,\n",
    "        callbacks = [EarlyStoppingCallback(3)],\n",
    "    )"
   ]
  },
  {
   "cell_type": "code",
   "execution_count": null,
   "metadata": {
    "id": "-8u8Cvlqni4H"
   },
   "outputs": [],
   "source": [
    "koelectra_trainer = trainer(train_dataset, MODEL_NAME, MODEL_PATH)"
   ]
  },
  {
   "cell_type": "markdown",
   "metadata": {
    "id": "4qmLg_WdATAa"
   },
   "source": [
    "### Train"
   ]
  },
  {
   "cell_type": "code",
   "execution_count": null,
   "metadata": {
    "colab": {
     "base_uri": "https://localhost:8080/",
     "height": 624
    },
    "executionInfo": {
     "elapsed": 3121284,
     "status": "ok",
     "timestamp": 1658542115440,
     "user": {
      "displayName": "Myst",
      "userId": "17405133242292037053"
     },
     "user_tz": -540
    },
    "id": "sVXMFVLHm8mA",
    "outputId": "b065712e-c0ce-43dd-d4ad-5b6739db39a4"
   },
   "outputs": [
    {
     "name": "stderr",
     "output_type": "stream",
     "text": [
      "Failed to detect the name of this notebook, you can set it manually with the WANDB_NOTEBOOK_NAME environment variable to enable code saving.\n",
      "\u001b[34m\u001b[1mwandb\u001b[0m: Currently logged in as: \u001b[33mmunicef\u001b[0m (\u001b[33msrgan\u001b[0m). Use \u001b[1m`wandb login --relogin`\u001b[0m to force relogin\n"
     ]
    },
    {
     "data": {
      "text/html": [
       "wandb version 0.15.12 is available!  To upgrade, please run:\n",
       " $ pip install wandb --upgrade"
      ],
      "text/plain": [
       "<IPython.core.display.HTML object>"
      ]
     },
     "metadata": {},
     "output_type": "display_data"
    },
    {
     "data": {
      "text/html": [
       "Tracking run with wandb version 0.13.5"
      ],
      "text/plain": [
       "<IPython.core.display.HTML object>"
      ]
     },
     "metadata": {},
     "output_type": "display_data"
    },
    {
     "data": {
      "text/html": [
       "Run data is saved locally in <code>c:\\Users\\User\\Desktop\\1_dacon\\AIvsHuman\\wandb\\run-20231029_231548-yzngxs49</code>"
      ],
      "text/plain": [
       "<IPython.core.display.HTML object>"
      ]
     },
     "metadata": {},
     "output_type": "display_data"
    },
    {
     "data": {
      "text/html": [
       "Syncing run <strong><a href=\"https://wandb.ai/srgan/huggingface/runs/yzngxs49\" target=\"_blank\">serene-smoke-31</a></strong> to <a href=\"https://wandb.ai/srgan/huggingface\" target=\"_blank\">Weights & Biases</a> (<a href=\"https://wandb.me/run\" target=\"_blank\">docs</a>)<br/>"
      ],
      "text/plain": [
       "<IPython.core.display.HTML object>"
      ]
     },
     "metadata": {},
     "output_type": "display_data"
    },
    {
     "data": {
      "application/vnd.jupyter.widget-view+json": {
       "model_id": "21524aa7bf884842b4e0277e723d5387",
       "version_major": 2,
       "version_minor": 0
      },
      "text/plain": [
       "  0%|          | 0/1950 [00:00<?, ?it/s]"
      ]
     },
     "metadata": {},
     "output_type": "display_data"
    },
    {
     "data": {
      "application/vnd.jupyter.widget-view+json": {
       "model_id": "73927bc1e7b74a3a8012b6c5b1e6c164",
       "version_major": 2,
       "version_minor": 0
      },
      "text/plain": [
       "  0%|          | 0/8 [00:00<?, ?it/s]"
      ]
     },
     "metadata": {},
     "output_type": "display_data"
    },
    {
     "name": "stdout",
     "output_type": "stream",
     "text": [
      "{'eval_loss': 0.9690737128257751, 'eval_accuracy': 0.5760869565217391, 'eval_runtime': 0.7301, 'eval_samples_per_second': 630.027, 'eval_steps_per_second': 10.957, 'epoch': 1.0}\n"
     ]
    },
    {
     "data": {
      "application/vnd.jupyter.widget-view+json": {
       "model_id": "c6584aa51e364743866bc6f597ff9544",
       "version_major": 2,
       "version_minor": 0
      },
      "text/plain": [
       "  0%|          | 0/8 [00:00<?, ?it/s]"
      ]
     },
     "metadata": {},
     "output_type": "display_data"
    },
    {
     "name": "stdout",
     "output_type": "stream",
     "text": [
      "{'eval_loss': 0.5036658644676208, 'eval_accuracy': 0.758695652173913, 'eval_runtime': 0.7374, 'eval_samples_per_second': 623.793, 'eval_steps_per_second': 10.849, 'epoch': 2.0}\n"
     ]
    },
    {
     "data": {
      "application/vnd.jupyter.widget-view+json": {
       "model_id": "49b82ca826964c95b9e46a755276decb",
       "version_major": 2,
       "version_minor": 0
      },
      "text/plain": [
       "  0%|          | 0/8 [00:00<?, ?it/s]"
      ]
     },
     "metadata": {},
     "output_type": "display_data"
    },
    {
     "name": "stdout",
     "output_type": "stream",
     "text": [
      "{'eval_loss': 0.35120365023612976, 'eval_accuracy': 0.8739130434782608, 'eval_runtime': 0.7399, 'eval_samples_per_second': 621.669, 'eval_steps_per_second': 10.812, 'epoch': 3.0}\n"
     ]
    },
    {
     "data": {
      "application/vnd.jupyter.widget-view+json": {
       "model_id": "e019587e5c1244b6bbdb0af9550f6f26",
       "version_major": 2,
       "version_minor": 0
      },
      "text/plain": [
       "  0%|          | 0/8 [00:00<?, ?it/s]"
      ]
     },
     "metadata": {},
     "output_type": "display_data"
    },
    {
     "name": "stdout",
     "output_type": "stream",
     "text": [
      "{'eval_loss': 0.28039005398750305, 'eval_accuracy': 0.9043478260869565, 'eval_runtime': 0.7322, 'eval_samples_per_second': 628.227, 'eval_steps_per_second': 10.926, 'epoch': 4.0}\n"
     ]
    },
    {
     "data": {
      "application/vnd.jupyter.widget-view+json": {
       "model_id": "4d07fbf72d32415c80fe43c382b791c7",
       "version_major": 2,
       "version_minor": 0
      },
      "text/plain": [
       "  0%|          | 0/8 [00:00<?, ?it/s]"
      ]
     },
     "metadata": {},
     "output_type": "display_data"
    },
    {
     "name": "stdout",
     "output_type": "stream",
     "text": [
      "{'eval_loss': 0.285870224237442, 'eval_accuracy': 0.9021739130434783, 'eval_runtime': 0.7365, 'eval_samples_per_second': 624.568, 'eval_steps_per_second': 10.862, 'epoch': 5.0}\n"
     ]
    },
    {
     "data": {
      "application/vnd.jupyter.widget-view+json": {
       "model_id": "748e5c96cd9045019e7476d103ef8971",
       "version_major": 2,
       "version_minor": 0
      },
      "text/plain": [
       "  0%|          | 0/8 [00:00<?, ?it/s]"
      ]
     },
     "metadata": {},
     "output_type": "display_data"
    },
    {
     "name": "stdout",
     "output_type": "stream",
     "text": [
      "{'eval_loss': 0.2677876651287079, 'eval_accuracy': 0.9195652173913044, 'eval_runtime': 0.7456, 'eval_samples_per_second': 616.949, 'eval_steps_per_second': 10.73, 'epoch': 6.0}\n"
     ]
    },
    {
     "data": {
      "application/vnd.jupyter.widget-view+json": {
       "model_id": "8465edabf29846828b326abc79d34659",
       "version_major": 2,
       "version_minor": 0
      },
      "text/plain": [
       "  0%|          | 0/8 [00:00<?, ?it/s]"
      ]
     },
     "metadata": {},
     "output_type": "display_data"
    },
    {
     "name": "stdout",
     "output_type": "stream",
     "text": [
      "{'eval_loss': 0.3917982578277588, 'eval_accuracy': 0.8934782608695652, 'eval_runtime': 0.745, 'eval_samples_per_second': 617.438, 'eval_steps_per_second': 10.738, 'epoch': 7.0}\n",
      "{'loss': 0.3837, 'learning_rate': 1e-05, 'epoch': 7.69}\n"
     ]
    },
    {
     "data": {
      "application/vnd.jupyter.widget-view+json": {
       "model_id": "d8dd393442eb4c9d8b1ed159a56a95b9",
       "version_major": 2,
       "version_minor": 0
      },
      "text/plain": [
       "  0%|          | 0/8 [00:00<?, ?it/s]"
      ]
     },
     "metadata": {},
     "output_type": "display_data"
    },
    {
     "name": "stdout",
     "output_type": "stream",
     "text": [
      "{'eval_loss': 0.3271862268447876, 'eval_accuracy': 0.9130434782608695, 'eval_runtime': 0.7263, 'eval_samples_per_second': 633.39, 'eval_steps_per_second': 11.015, 'epoch': 8.0}\n"
     ]
    },
    {
     "data": {
      "application/vnd.jupyter.widget-view+json": {
       "model_id": "f63757cbc970495b96d18ca36464bc2c",
       "version_major": 2,
       "version_minor": 0
      },
      "text/plain": [
       "  0%|          | 0/8 [00:00<?, ?it/s]"
      ]
     },
     "metadata": {},
     "output_type": "display_data"
    },
    {
     "name": "stdout",
     "output_type": "stream",
     "text": [
      "{'eval_loss': 0.3147951066493988, 'eval_accuracy': 0.9043478260869565, 'eval_runtime': 0.7366, 'eval_samples_per_second': 624.491, 'eval_steps_per_second': 10.861, 'epoch': 9.0}\n",
      "{'train_runtime': 208.5245, 'train_samples_per_second': 595.613, 'train_steps_per_second': 9.351, 'train_loss': 0.3477864420312083, 'epoch': 9.0}\n"
     ]
    },
    {
     "data": {
      "text/plain": [
       "TrainOutput(global_step=585, training_loss=0.3477864420312083, metrics={'train_runtime': 208.5245, 'train_samples_per_second': 595.613, 'train_steps_per_second': 9.351, 'train_loss': 0.3477864420312083, 'epoch': 9.0})"
      ]
     },
     "metadata": {},
     "output_type": "display_data"
    }
   ],
   "source": [
    "koelectra_trainer.train()"
   ]
  },
  {
   "cell_type": "markdown",
   "metadata": {
    "id": "e658-v7dAeQj"
   },
   "source": [
    "### Evaluate"
   ]
  },
  {
   "cell_type": "code",
   "execution_count": null,
   "metadata": {
    "colab": {
     "base_uri": "https://localhost:8080/",
     "height": 193
    },
    "executionInfo": {
     "elapsed": 54305,
     "status": "ok",
     "timestamp": 1658542170250,
     "user": {
      "displayName": "Myst",
      "userId": "17405133242292037053"
     },
     "user_tz": -540
    },
    "id": "p4YkuEiEm-eW",
    "outputId": "fb682091-adcc-4543-ee03-662d988aba52"
   },
   "outputs": [
    {
     "data": {
      "application/vnd.jupyter.widget-view+json": {
       "model_id": "1b3a0efb0b55441eb04dd9ef24a37eca",
       "version_major": 2,
       "version_minor": 0
      },
      "text/plain": [
       "  0%|          | 0/8 [00:00<?, ?it/s]"
      ]
     },
     "metadata": {},
     "output_type": "display_data"
    },
    {
     "data": {
      "text/plain": [
       "{'eval_loss': 0.2677876651287079,\n",
       " 'eval_accuracy': 0.9195652173913044,\n",
       " 'eval_runtime': 1.3641,\n",
       " 'eval_samples_per_second': 337.221,\n",
       " 'eval_steps_per_second': 5.865,\n",
       " 'epoch': 9.0}"
      ]
     },
     "metadata": {},
     "output_type": "display_data"
    }
   ],
   "source": [
    "koelectra_trainer.evaluate()"
   ]
  },
  {
   "cell_type": "markdown",
   "metadata": {
    "id": "Ll3uTl8EATAa"
   },
   "source": [
    "### Predict"
   ]
  },
  {
   "cell_type": "code",
   "execution_count": null,
   "metadata": {
    "colab": {
     "base_uri": "https://localhost:8080/",
     "height": 86,
     "referenced_widgets": [
      "570a6377ece844698b92394ac8be4e60",
      "93a9856b1a5f471b8e387dc2bbd697b5",
      "69aba26fe4f341828ae759a6fe83cbeb",
      "510c9009799644d59bed67f90a5c8509",
      "a77a68dd012c41a5a32df2ce6a88ab8a",
      "6b10309d33f34701b249ebff70cc5c97",
      "34799532bb9e47d3baf85547554b1b32",
      "fb464dfe9d634601875f9ed181aafcd5",
      "ccd25b005c4c4c1b9e18c264f58d944c",
      "20222f01014e4b4b9ebda35b3be8fda7",
      "ba824b8f354e4e45940264082603b3f4",
      "f8de4be9e90c4e49a767b2a52ecf00d7",
      "5d09978176804e93ab485533ac8f9d3e",
      "583459f443024f6caaed8667714a38e2",
      "146e7a690f6a4a92a2155fe2cad8e19f",
      "8d0f0a58dd26482688c12c735681eed9",
      "23e68909424e4e028430bf490816c675",
      "b2138a3e0f044e0d833a3efca2a59286",
      "c84a84f17d49454f81a3a778d2514437",
      "37b02bd6f4fb4ebb8ecf4a754dd2817e",
      "5964ec4c01004eaea823c00ade1cda15",
      "ad02f7adedda496b86f2dea45f838f14",
      "2d285ba638a049f7904b1d8efa605326",
      "ac2060e9ff9046cf9eb12b8b248c658e",
      "5c9ef830691046dfa0aff411624a4c92",
      "fdc997195b90453ea32235fc5ecd2319",
      "7d6e8d53121b4c38ab19d99579a41332",
      "a41f1e645ef344c994eb581be117327b",
      "10b3ddb388674c10b453ae83955cdf43",
      "173b1b4e5e9e4f968399231660a891a4",
      "3f1026d8ee874a05b69221dac64d147b",
      "a25ddab3f02245bcaaa0b8cacd352fb4",
      "8eaf6a7523c646a29093755e42a7a45a",
      "a2b685f1dd204304b3c663b6873ac5ec",
      "c17799c5eb7f49b4beba757161768e12",
      "59f7f1748e4646cd976b9e955f68ff20",
      "0b3c051923b84169bc657a880944c1ed",
      "524721dc40394fd68b03bf52f719ab64",
      "79321ddd10464387822f4efb3844c3da",
      "47971d4d649742f3b4a6083046c1d62f",
      "aa01152f114440b5b614dd71df18876b",
      "3d98297c61ca4246864f56c7722d10af",
      "e79a9d77cd3145f6a9665a5d6c60d0ba",
      "253547de6d1148168cc27fca9d402727",
      "28a399e3e812426185e1c58839a73105",
      "07731a1b18da437e94b80ecc47aec28b",
      "c9915793c18a47e69225ce4ef07eb003",
      "9b7ca3cbea3741bbb730a845bb0e8f7a",
      "1f77131e0d0c4f82ac05e76cb5d37354",
      "7ff41dc97b9c49279df2bc9d9165603d",
      "0a80338ea38d4718957d2910894d3ddb",
      "f515f5b19f334f91add03b4f5e61e9a6",
      "cd5c2aa6084048d6a79ec64bd3654e8b",
      "200593ca20e04a90ab020d29ceeb150d",
      "d11b9836965843a0aea49b5ce3e0d794"
     ]
    },
    "executionInfo": {
     "elapsed": 14938,
     "status": "ok",
     "timestamp": 1658543243183,
     "user": {
      "displayName": "Myst",
      "userId": "17405133242292037053"
     },
     "user_tz": -540
    },
    "id": "fceIoBdf4Smb",
    "outputId": "d3404e53-8a1a-4cea-c4b6-a7b5ed586985"
   },
   "outputs": [
    {
     "data": {
      "application/vnd.jupyter.widget-view+json": {
       "model_id": "994db0bf26d54f6a9ca6152524eb084b",
       "version_major": 2,
       "version_minor": 0
      },
      "text/plain": [
       "Map:   0%|          | 0/4400 [00:00<?, ? examples/s]"
      ]
     },
     "metadata": {},
     "output_type": "display_data"
    },
    {
     "data": {
      "application/vnd.jupyter.widget-view+json": {
       "model_id": "195dc66f67784ddfa007538ee01c5c90",
       "version_major": 2,
       "version_minor": 0
      },
      "text/plain": [
       "  0%|          | 0/69 [00:00<?, ?it/s]"
      ]
     },
     "metadata": {},
     "output_type": "display_data"
    }
   ],
   "source": [
    "test_dataset = preprocess(test_dataset, MODEL_PATH, labeled=False)\n",
    "result = koelectra_trainer.predict(test_dataset)\n",
    "preds = np.vectorize(id2label.get)(np.argmax(result.predictions, axis=1))"
   ]
  },
  {
   "cell_type": "code",
   "execution_count": null,
   "metadata": {},
   "outputs": [],
   "source": [
    "predictions = pd.DataFrame(result.predictions, columns = ['0','1'])"
   ]
  },
  {
   "cell_type": "code",
   "execution_count": null,
   "metadata": {},
   "outputs": [],
   "source": [
    "test['0 percent'] = predictions['0']\n",
    "test['1 percent'] = predictions['1']"
   ]
  },
  {
   "cell_type": "code",
   "execution_count": null,
   "metadata": {},
   "outputs": [
    {
     "data": {
      "text/html": [
       "<div>\n",
       "<style scoped>\n",
       "    .dataframe tbody tr th:only-of-type {\n",
       "        vertical-align: middle;\n",
       "    }\n",
       "\n",
       "    .dataframe tbody tr th {\n",
       "        vertical-align: top;\n",
       "    }\n",
       "\n",
       "    .dataframe thead th {\n",
       "        text-align: right;\n",
       "    }\n",
       "</style>\n",
       "<table border=\"1\" class=\"dataframe\">\n",
       "  <thead>\n",
       "    <tr style=\"text-align: right;\">\n",
       "      <th></th>\n",
       "      <th>text</th>\n",
       "      <th>0 percent</th>\n",
       "      <th>1 percent</th>\n",
       "    </tr>\n",
       "  </thead>\n",
       "  <tbody>\n",
       "    <tr>\n",
       "      <th>0</th>\n",
       "      <td>배송은 정말 빨랐어요! 집에서 속옷이 불편한데 입기 싫고, 안 입으면 민망해서 구매...</td>\n",
       "      <td>4.009395</td>\n",
       "      <td>-3.938480</td>\n",
       "    </tr>\n",
       "    <tr>\n",
       "      <th>1</th>\n",
       "      <td>배송은 정말 빠르고요~ 집에서 속옷은 불편해서 안 입으려고 했는데, 약간 부끄럽기도...</td>\n",
       "      <td>3.877219</td>\n",
       "      <td>-3.829564</td>\n",
       "    </tr>\n",
       "    <tr>\n",
       "      <th>2</th>\n",
       "      <td>배송은 빠르구여~집에서 속옷 불편한데 입긴싫고~안입자니 민망해서 구매했는데~오 사이...</td>\n",
       "      <td>-2.815193</td>\n",
       "      <td>2.982588</td>\n",
       "    </tr>\n",
       "    <tr>\n",
       "      <th>3</th>\n",
       "      <td>배송 빨라요~ 속옷 불편한데 입기 싫고~ 안 입으면 민망해서 삿는데~ 사이즈 크네요...</td>\n",
       "      <td>3.464925</td>\n",
       "      <td>-3.437225</td>\n",
       "    </tr>\n",
       "    <tr>\n",
       "      <th>4</th>\n",
       "      <td>하.. 원래도 비쌋는데 가격도 더ㅠ올라가고  품질은 더 떨어졌어요..   김밥에 참...</td>\n",
       "      <td>-0.404896</td>\n",
       "      <td>0.416290</td>\n",
       "    </tr>\n",
       "    <tr>\n",
       "      <th>...</th>\n",
       "      <td>...</td>\n",
       "      <td>...</td>\n",
       "      <td>...</td>\n",
       "    </tr>\n",
       "    <tr>\n",
       "      <th>4395</th>\n",
       "      <td>안좋은 리뷰를 왠만해서는 안쓰는데 삼성역 아그라를 정말 좋아해서 자주가는 편인데 아...</td>\n",
       "      <td>-2.878917</td>\n",
       "      <td>3.067898</td>\n",
       "    </tr>\n",
       "    <tr>\n",
       "      <th>4396</th>\n",
       "      <td>이 식당이 조금 아쉬웠으면 좋겠습니다. 맛은 평범한 편이지만 직원들의 태도가 너무 ...</td>\n",
       "      <td>3.975836</td>\n",
       "      <td>-3.919305</td>\n",
       "    </tr>\n",
       "    <tr>\n",
       "      <th>4397</th>\n",
       "      <td>이런 식당은 정말 아쉽습니다. 보통 맛이지만 직원들의 태도가 너무 실망스럽습니다. ...</td>\n",
       "      <td>3.984378</td>\n",
       "      <td>-3.939469</td>\n",
       "    </tr>\n",
       "    <tr>\n",
       "      <th>4398</th>\n",
       "      <td>이런 식당은 정말 망했으면 좋겠어요. 맛은 그냥 그런 편인데 직원들이 정말 불친절해...</td>\n",
       "      <td>3.911467</td>\n",
       "      <td>-3.841723</td>\n",
       "    </tr>\n",
       "    <tr>\n",
       "      <th>4399</th>\n",
       "      <td>이런 식당은 정말 망했으면 좋겠습니다. 맛은 보통이나 직원들이 진짜 불핀절해서 기분...</td>\n",
       "      <td>-2.907437</td>\n",
       "      <td>3.075783</td>\n",
       "    </tr>\n",
       "  </tbody>\n",
       "</table>\n",
       "<p>4400 rows × 3 columns</p>\n",
       "</div>"
      ],
      "text/plain": [
       "                                                   text  0 percent  1 percent\n",
       "0     배송은 정말 빨랐어요! 집에서 속옷이 불편한데 입기 싫고, 안 입으면 민망해서 구매...   4.009395  -3.938480\n",
       "1     배송은 정말 빠르고요~ 집에서 속옷은 불편해서 안 입으려고 했는데, 약간 부끄럽기도...   3.877219  -3.829564\n",
       "2     배송은 빠르구여~집에서 속옷 불편한데 입긴싫고~안입자니 민망해서 구매했는데~오 사이...  -2.815193   2.982588\n",
       "3     배송 빨라요~ 속옷 불편한데 입기 싫고~ 안 입으면 민망해서 삿는데~ 사이즈 크네요...   3.464925  -3.437225\n",
       "4     하.. 원래도 비쌋는데 가격도 더ㅠ올라가고  품질은 더 떨어졌어요..   김밥에 참...  -0.404896   0.416290\n",
       "...                                                 ...        ...        ...\n",
       "4395  안좋은 리뷰를 왠만해서는 안쓰는데 삼성역 아그라를 정말 좋아해서 자주가는 편인데 아...  -2.878917   3.067898\n",
       "4396  이 식당이 조금 아쉬웠으면 좋겠습니다. 맛은 평범한 편이지만 직원들의 태도가 너무 ...   3.975836  -3.919305\n",
       "4397  이런 식당은 정말 아쉽습니다. 보통 맛이지만 직원들의 태도가 너무 실망스럽습니다. ...   3.984378  -3.939469\n",
       "4398  이런 식당은 정말 망했으면 좋겠어요. 맛은 그냥 그런 편인데 직원들이 정말 불친절해...   3.911467  -3.841723\n",
       "4399  이런 식당은 정말 망했으면 좋겠습니다. 맛은 보통이나 직원들이 진짜 불핀절해서 기분...  -2.907437   3.075783\n",
       "\n",
       "[4400 rows x 3 columns]"
      ]
     },
     "metadata": {},
     "output_type": "display_data"
    }
   ],
   "source": [
    "test"
   ]
  },
  {
   "cell_type": "code",
   "execution_count": null,
   "metadata": {},
   "outputs": [
    {
     "name": "stdout",
     "output_type": "stream",
     "text": [
      "        ID answer\n",
      "0        1     34\n",
      "1        2     12\n",
      "2        3     23\n",
      "3        4     31\n",
      "4        5     31\n",
      "...    ...    ...\n",
      "1095  1096     23\n",
      "1096  1097     24\n",
      "1097  1098     41\n",
      "1098  1099     43\n",
      "1099  1100     43\n",
      "\n",
      "[1100 rows x 2 columns]\n"
     ]
    }
   ],
   "source": [
    "import pandas as pd\n",
    "\n",
    "# 파일 로드\n",
    "results_df = test\n",
    "\n",
    "# 결과를 저장할 리스트 초기화\n",
    "output_list = []\n",
    "\n",
    "# 4줄씩 데이터를 읽어가면서 처리\n",
    "for i in range(0, len(results_df), 4):\n",
    "    subset = results_df.iloc[i:i+4]\n",
    "    top_2_indices = subset['1 percent'].nlargest(2).index - i + 1  # 현재 subset에서의 상대적 위치로 변경\n",
    "    top_2_str = \"\".join(map(str, top_2_indices))  # \",\" 없이 연결\n",
    "    \n",
    "    output_list.append({\n",
    "        \"ID\": i // 4 + 1,\n",
    "        \"answer\": top_2_str\n",
    "    })\n",
    "\n",
    "# 결과 데이터프레임 생성\n",
    "output_df = pd.DataFrame(output_list)\n",
    "\n",
    "print(output_df)\n"
   ]
  },
  {
   "cell_type": "code",
   "execution_count": null,
   "metadata": {},
   "outputs": [],
   "source": [
    "submission = pd.read_csv('./sample_submission.csv')"
   ]
  },
  {
   "cell_type": "code",
   "execution_count": null,
   "metadata": {},
   "outputs": [],
   "source": [
    "submission['label'] = output_df['answer']"
   ]
  },
  {
   "cell_type": "code",
   "execution_count": null,
   "metadata": {},
   "outputs": [],
   "source": [
    "submission.to_csv(\"./EPOCH30.csv\", index=False)"
   ]
  }
 ],
 "metadata": {
  "kernelspec": {
   "display_name": "Python 3.8.13 ('torch_new')",
   "language": "python",
   "name": "python3"
  },
  "language_info": {
   "codemirror_mode": {
    "name": "ipython",
    "version": 3
   },
   "file_extension": ".py",
   "mimetype": "text/x-python",
   "name": "python",
   "nbconvert_exporter": "python",
   "pygments_lexer": "ipython3",
   "version": "3.9.13"
  },
  "orig_nbformat": 4,
  "vscode": {
   "interpreter": {
    "hash": "dcc704823a757e1539f5a43af79350a02135e44c06252b04666ddd79fc40e3cd"
   }
  }
 },
 "nbformat": 4,
 "nbformat_minor": 2
}
